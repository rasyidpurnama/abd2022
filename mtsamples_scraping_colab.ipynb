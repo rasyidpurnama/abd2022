{
  "nbformat": 4,
  "nbformat_minor": 0,
  "metadata": {
    "colab": {
      "name": "mtsamples-scraping-colab.ipynb",
      "provenance": [],
      "collapsed_sections": []
    },
    "kernelspec": {
      "name": "python3",
      "display_name": "Python 3"
    },
    "language_info": {
      "name": "python"
    }
  },
  "cells": [
    {
      "cell_type": "code",
      "execution_count": null,
      "metadata": {
        "id": "l3eAMbTiqUBh"
      },
      "outputs": [],
      "source": [
        "!apt install chromium-chromedriver\n",
        "!cp /usr/lib/chromium-browser/chromedriver /usr/bin\n",
        "!pip install selenium"
      ]
    },
    {
      "cell_type": "code",
      "source": [
        "from selenium import webdriver\n",
        "options = webdriver.ChromeOptions()\n",
        "options.add_argument('-headless')\n",
        "options.add_argument('-no-sandbox')\n",
        "options.add_argument('-disable-dev-shm-usage')\n",
        "\n",
        "from tqdm import tqdm\n",
        "\n",
        "import warnings\n",
        "warnings.filterwarnings(\"ignore\")\n",
        "\n",
        "wd = webdriver.Chrome('chromedriver',options=options)\n",
        "wd.get('https://www.mtsamples.com/')\n",
        "# print(wd.page_source)"
      ],
      "metadata": {
        "id": "2x2jgrHossdH"
      },
      "execution_count": 39,
      "outputs": []
    },
    {
      "cell_type": "code",
      "source": [
        "# create list columns\n",
        "medical_speciality = []\n",
        "sample_name = []\n",
        "description = []\n",
        "transcription = []\n",
        "keywords = []\n",
        "\n",
        "# get type pages\n",
        "pages = [link.get_attribute(\"href\") for link in wd.find_elements_by_class_name(\"dropdown-menu\")[0].find_elements_by_tag_name(\"a\")]\n",
        "\n",
        "# deep dive into each pages\n",
        "for page in pages:\n",
        "    wd.get(page)\n",
        "    links = [link.get_attribute(\"href\") for link in wd.find_elements_by_class_name(\"dropdown-menu\")[1].find_elements_by_tag_name(\"a\")]\n",
        "    print(page, ':', len(links))\n",
        "    for link in tqdm(links):\n",
        "        wd.get(link)\n",
        "        text = wd.find_elements_by_class_name(\"hilightBold\")[0].text\n",
        "        texts = text.split('\\n')\n",
        "        medical_speciality.append(texts[1])\n",
        "        sample_name.append(texts[3].replace('Sample Name: ', ''))\n",
        "        description.append(texts[5].replace('Description: ', ''))\n",
        "        transcription.append( text.split('(Medical Transcription Sample Report)\\n')[1].split('\\n\\nGo Back to')[0] )\n",
        "        keywords.append(texts[-1].replace('Keywords: ', ''))"
      ],
      "metadata": {
        "colab": {
          "base_uri": "https://localhost:8080/"
        },
        "id": "1iSj0Nbqr04u",
        "outputId": "05f27ac6-9be3-4556-e3a1-0377412ae335"
      },
      "execution_count": 40,
      "outputs": [
        {
          "output_type": "stream",
          "name": "stdout",
          "text": [
            "https://www.mtsamples.com/site/pages/browse.asp?Type=3-Allergy%20/%20Immunology : 7\n"
          ]
        },
        {
          "output_type": "stream",
          "name": "stderr",
          "text": [
            "100%|██████████| 7/7 [00:11<00:00,  1.69s/it]\n"
          ]
        },
        {
          "output_type": "stream",
          "name": "stdout",
          "text": [
            "https://www.mtsamples.com/site/pages/browse.asp?Type=94-Autopsy : 8\n"
          ]
        },
        {
          "output_type": "stream",
          "name": "stderr",
          "text": [
            "100%|██████████| 8/8 [00:12<00:00,  1.52s/it]\n"
          ]
        },
        {
          "output_type": "stream",
          "name": "stdout",
          "text": [
            "https://www.mtsamples.com/site/pages/browse.asp?Type=5-Bariatrics : 18\n"
          ]
        },
        {
          "output_type": "stream",
          "name": "stderr",
          "text": [
            "100%|██████████| 18/18 [00:26<00:00,  1.49s/it]\n"
          ]
        },
        {
          "output_type": "stream",
          "name": "stdout",
          "text": [
            "https://www.mtsamples.com/site/pages/browse.asp?Type=6-Cardiovascular%20/%20Pulmonary : 372\n"
          ]
        },
        {
          "output_type": "stream",
          "name": "stderr",
          "text": [
            "100%|██████████| 372/372 [10:18<00:00,  1.66s/it]\n"
          ]
        },
        {
          "output_type": "stream",
          "name": "stdout",
          "text": [
            "https://www.mtsamples.com/site/pages/browse.asp?Type=99-Chiropractic : 14\n"
          ]
        },
        {
          "output_type": "stream",
          "name": "stderr",
          "text": [
            "100%|██████████| 14/14 [00:21<00:00,  1.51s/it]\n"
          ]
        },
        {
          "output_type": "stream",
          "name": "stdout",
          "text": [
            "https://www.mtsamples.com/site/pages/browse.asp?Type=97-Consult%20-%20History%20and%20Phy. : 515\n"
          ]
        },
        {
          "output_type": "stream",
          "name": "stderr",
          "text": [
            "100%|██████████| 515/515 [12:30<00:00,  1.46s/it]\n"
          ]
        },
        {
          "output_type": "stream",
          "name": "stdout",
          "text": [
            "https://www.mtsamples.com/site/pages/browse.asp?Type=70-Cosmetic%20/%20Plastic%20Surgery : 27\n"
          ]
        },
        {
          "output_type": "stream",
          "name": "stderr",
          "text": [
            "100%|██████████| 27/27 [00:41<00:00,  1.52s/it]\n"
          ]
        },
        {
          "output_type": "stream",
          "name": "stdout",
          "text": [
            "https://www.mtsamples.com/site/pages/browse.asp?Type=17-Dentistry : 27\n"
          ]
        },
        {
          "output_type": "stream",
          "name": "stderr",
          "text": [
            "100%|██████████| 27/27 [00:41<00:00,  1.54s/it]\n"
          ]
        },
        {
          "output_type": "stream",
          "name": "stdout",
          "text": [
            "https://www.mtsamples.com/site/pages/browse.asp?Type=18-Dermatology : 30\n"
          ]
        },
        {
          "output_type": "stream",
          "name": "stderr",
          "text": [
            "100%|██████████| 30/30 [00:45<00:00,  1.51s/it]\n"
          ]
        },
        {
          "output_type": "stream",
          "name": "stdout",
          "text": [
            "https://www.mtsamples.com/site/pages/browse.asp?Type=44-Diets%20and%20Nutritions : 10\n"
          ]
        },
        {
          "output_type": "stream",
          "name": "stderr",
          "text": [
            "100%|██████████| 10/10 [00:18<00:00,  1.84s/it]\n"
          ]
        },
        {
          "output_type": "stream",
          "name": "stdout",
          "text": [
            "https://www.mtsamples.com/site/pages/browse.asp?Type=89-Discharge%20Summary : 108\n"
          ]
        },
        {
          "output_type": "stream",
          "name": "stderr",
          "text": [
            "100%|██████████| 108/108 [02:51<00:00,  1.58s/it]\n"
          ]
        },
        {
          "output_type": "stream",
          "name": "stdout",
          "text": [
            "https://www.mtsamples.com/site/pages/browse.asp?Type=93-Emergency%20Room%20Reports : 75\n"
          ]
        },
        {
          "output_type": "stream",
          "name": "stderr",
          "text": [
            "100%|██████████| 75/75 [01:47<00:00,  1.43s/it]\n"
          ]
        },
        {
          "output_type": "stream",
          "name": "stdout",
          "text": [
            "https://www.mtsamples.com/site/pages/browse.asp?Type=21-Endocrinology : 19\n"
          ]
        },
        {
          "output_type": "stream",
          "name": "stderr",
          "text": [
            "100%|██████████| 19/19 [00:26<00:00,  1.42s/it]\n"
          ]
        },
        {
          "output_type": "stream",
          "name": "stdout",
          "text": [
            "https://www.mtsamples.com/site/pages/browse.asp?Type=100-ENT%20-%20Otolaryngology : 98\n"
          ]
        },
        {
          "output_type": "stream",
          "name": "stderr",
          "text": [
            "100%|██████████| 98/98 [02:10<00:00,  1.33s/it]\n"
          ]
        },
        {
          "output_type": "stream",
          "name": "stdout",
          "text": [
            "https://www.mtsamples.com/site/pages/browse.asp?Type=24-Gastroenterology : 230\n"
          ]
        },
        {
          "output_type": "stream",
          "name": "stderr",
          "text": [
            "100%|██████████| 230/230 [05:09<00:00,  1.34s/it]\n"
          ]
        },
        {
          "output_type": "stream",
          "name": "stdout",
          "text": [
            "https://www.mtsamples.com/site/pages/browse.asp?Type=98-General%20Medicine : 258\n"
          ]
        },
        {
          "output_type": "stream",
          "name": "stderr",
          "text": [
            "100%|██████████| 258/258 [07:15<00:00,  1.69s/it]\n"
          ]
        },
        {
          "output_type": "stream",
          "name": "stdout",
          "text": [
            "https://www.mtsamples.com/site/pages/browse.asp?Type=96-Hematology%20-%20Oncology : 90\n"
          ]
        },
        {
          "output_type": "stream",
          "name": "stderr",
          "text": [
            "100%|██████████| 90/90 [02:02<00:00,  1.36s/it]\n"
          ]
        },
        {
          "output_type": "stream",
          "name": "stdout",
          "text": [
            "https://www.mtsamples.com/site/pages/browse.asp?Type=34-Hospice%20-%20Palliative%20Care : 6\n"
          ]
        },
        {
          "output_type": "stream",
          "name": "stderr",
          "text": [
            "100%|██████████| 6/6 [00:08<00:00,  1.48s/it]\n"
          ]
        },
        {
          "output_type": "stream",
          "name": "stdout",
          "text": [
            "https://www.mtsamples.com/site/pages/browse.asp?Type=90-IME-QME-Work%20Comp%20etc. : 16\n"
          ]
        },
        {
          "output_type": "stream",
          "name": "stderr",
          "text": [
            "100%|██████████| 16/16 [00:21<00:00,  1.36s/it]\n"
          ]
        },
        {
          "output_type": "stream",
          "name": "stdout",
          "text": [
            "https://www.mtsamples.com/site/pages/browse.asp?Type=92-Lab%20Medicine%20-%20Pathology : 8\n"
          ]
        },
        {
          "output_type": "stream",
          "name": "stderr",
          "text": [
            "100%|██████████| 8/8 [00:11<00:00,  1.50s/it]\n"
          ]
        },
        {
          "output_type": "stream",
          "name": "stdout",
          "text": [
            "https://www.mtsamples.com/site/pages/browse.asp?Type=86-Letters : 24\n"
          ]
        },
        {
          "output_type": "stream",
          "name": "stderr",
          "text": [
            "100%|██████████| 24/24 [00:33<00:00,  1.41s/it]\n"
          ]
        },
        {
          "output_type": "stream",
          "name": "stdout",
          "text": [
            "https://www.mtsamples.com/site/pages/browse.asp?Type=41-Nephrology : 81\n"
          ]
        },
        {
          "output_type": "stream",
          "name": "stderr",
          "text": [
            "100%|██████████| 81/81 [01:50<00:00,  1.36s/it]\n"
          ]
        },
        {
          "output_type": "stream",
          "name": "stdout",
          "text": [
            "https://www.mtsamples.com/site/pages/browse.asp?Type=42-Neurology : 223\n"
          ]
        },
        {
          "output_type": "stream",
          "name": "stderr",
          "text": [
            "100%|██████████| 223/223 [05:19<00:00,  1.43s/it]\n"
          ]
        },
        {
          "output_type": "stream",
          "name": "stdout",
          "text": [
            "https://www.mtsamples.com/site/pages/browse.asp?Type=43-Neurosurgery : 94\n"
          ]
        },
        {
          "output_type": "stream",
          "name": "stderr",
          "text": [
            "100%|██████████| 94/94 [01:58<00:00,  1.26s/it]\n"
          ]
        },
        {
          "output_type": "stream",
          "name": "stdout",
          "text": [
            "https://www.mtsamples.com/site/pages/browse.asp?Type=45-Obstetrics%20/%20Gynecology : 160\n"
          ]
        },
        {
          "output_type": "stream",
          "name": "stderr",
          "text": [
            "100%|██████████| 160/160 [03:50<00:00,  1.44s/it]\n"
          ]
        },
        {
          "output_type": "stream",
          "name": "stdout",
          "text": [
            "https://www.mtsamples.com/site/pages/browse.asp?Type=87-Office%20Notes : 52\n"
          ]
        },
        {
          "output_type": "stream",
          "name": "stderr",
          "text": [
            "100%|██████████| 52/52 [01:14<00:00,  1.43s/it]\n"
          ]
        },
        {
          "output_type": "stream",
          "name": "stdout",
          "text": [
            "https://www.mtsamples.com/site/pages/browse.asp?Type=46-Ophthalmology : 83\n"
          ]
        },
        {
          "output_type": "stream",
          "name": "stderr",
          "text": [
            "100%|██████████| 83/83 [01:50<00:00,  1.33s/it]\n"
          ]
        },
        {
          "output_type": "stream",
          "name": "stdout",
          "text": [
            "https://www.mtsamples.com/site/pages/browse.asp?Type=49-Orthopedic : 357\n"
          ]
        },
        {
          "output_type": "stream",
          "name": "stderr",
          "text": [
            "100%|██████████| 357/357 [08:33<00:00,  1.44s/it]\n"
          ]
        },
        {
          "output_type": "stream",
          "name": "stdout",
          "text": [
            "https://www.mtsamples.com/site/pages/browse.asp?Type=105-Pain%20Management : 63\n"
          ]
        },
        {
          "output_type": "stream",
          "name": "stderr",
          "text": [
            "100%|██████████| 63/63 [01:19<00:00,  1.26s/it]\n"
          ]
        },
        {
          "output_type": "stream",
          "name": "stdout",
          "text": [
            "https://www.mtsamples.com/site/pages/browse.asp?Type=66-Pediatrics%20-%20Neonatal : 70\n"
          ]
        },
        {
          "output_type": "stream",
          "name": "stderr",
          "text": [
            "100%|██████████| 70/70 [01:40<00:00,  1.44s/it]\n"
          ]
        },
        {
          "output_type": "stream",
          "name": "stdout",
          "text": [
            "https://www.mtsamples.com/site/pages/browse.asp?Type=68-Physical%20Medicine%20-%20Rehab : 21\n"
          ]
        },
        {
          "output_type": "stream",
          "name": "stderr",
          "text": [
            "100%|██████████| 21/21 [00:31<00:00,  1.51s/it]\n"
          ]
        },
        {
          "output_type": "stream",
          "name": "stdout",
          "text": [
            "https://www.mtsamples.com/site/pages/browse.asp?Type=71-Podiatry : 47\n"
          ]
        },
        {
          "output_type": "stream",
          "name": "stderr",
          "text": [
            "100%|██████████| 47/47 [01:06<00:00,  1.42s/it]\n"
          ]
        },
        {
          "output_type": "stream",
          "name": "stdout",
          "text": [
            "https://www.mtsamples.com/site/pages/browse.asp?Type=72-Psychiatry%20/%20Psychology : 53\n"
          ]
        },
        {
          "output_type": "stream",
          "name": "stderr",
          "text": [
            "100%|██████████| 53/53 [01:28<00:00,  1.67s/it]\n"
          ]
        },
        {
          "output_type": "stream",
          "name": "stdout",
          "text": [
            "https://www.mtsamples.com/site/pages/browse.asp?Type=95-Radiology : 273\n"
          ]
        },
        {
          "output_type": "stream",
          "name": "stderr",
          "text": [
            "100%|██████████| 273/273 [06:41<00:00,  1.47s/it]\n"
          ]
        },
        {
          "output_type": "stream",
          "name": "stdout",
          "text": [
            "https://www.mtsamples.com/site/pages/browse.asp?Type=77-Rheumatology : 10\n"
          ]
        },
        {
          "output_type": "stream",
          "name": "stderr",
          "text": [
            "100%|██████████| 10/10 [00:14<00:00,  1.45s/it]\n"
          ]
        },
        {
          "output_type": "stream",
          "name": "stdout",
          "text": [
            "https://www.mtsamples.com/site/pages/browse.asp?Type=78-Sleep%20Medicine : 20\n"
          ]
        },
        {
          "output_type": "stream",
          "name": "stderr",
          "text": [
            "100%|██████████| 20/20 [00:25<00:00,  1.30s/it]\n"
          ]
        },
        {
          "output_type": "stream",
          "name": "stdout",
          "text": [
            "https://www.mtsamples.com/site/pages/browse.asp?Type=91-SOAP%20/%20Chart%20/%20Progress%20Notes : 166\n"
          ]
        },
        {
          "output_type": "stream",
          "name": "stderr",
          "text": [
            "100%|██████████| 166/166 [05:01<00:00,  1.81s/it]\n"
          ]
        },
        {
          "output_type": "stream",
          "name": "stdout",
          "text": [
            "https://www.mtsamples.com/site/pages/browse.asp?Type=106-Speech%20-%20Language : 9\n"
          ]
        },
        {
          "output_type": "stream",
          "name": "stderr",
          "text": [
            "100%|██████████| 9/9 [00:14<00:00,  1.65s/it]\n"
          ]
        },
        {
          "output_type": "stream",
          "name": "stdout",
          "text": [
            "https://www.mtsamples.com/site/pages/browse.asp?Type=85-Surgery : 1103\n"
          ]
        },
        {
          "output_type": "stream",
          "name": "stderr",
          "text": [
            "100%|██████████| 1103/1103 [27:05<00:00,  1.47s/it]\n"
          ]
        },
        {
          "output_type": "stream",
          "name": "stdout",
          "text": [
            "https://www.mtsamples.com/site/pages/browse.asp?Type=82-Urology : 158\n"
          ]
        },
        {
          "output_type": "stream",
          "name": "stderr",
          "text": [
            "100%|██████████| 158/158 [03:50<00:00,  1.46s/it]\n"
          ]
        }
      ]
    },
    {
      "cell_type": "code",
      "source": [
        "df = pd.DataFrame({\"medical_speciality\":medical_speciality,\n",
        "                   \"sample_name\":sample_name,\n",
        "                   \"description\":description,\n",
        "                   \"transcription\":transcription,\n",
        "                   \"keywords\":keywords})\n",
        "\n",
        "print(df.shape)\n",
        "df.to_csv('mtsamples_20220222.csv', index=False)\n",
        "df"
      ],
      "metadata": {
        "colab": {
          "base_uri": "https://localhost:8080/",
          "height": 441
        },
        "id": "ErgJwTbO49mL",
        "outputId": "a6bc6a3d-ce5c-4d6e-f82a-d5c0fbc9020b"
      },
      "execution_count": 41,
      "outputs": [
        {
          "output_type": "stream",
          "name": "stdout",
          "text": [
            "(5003, 5)\n"
          ]
        },
        {
          "output_type": "execute_result",
          "data": {
            "text/html": [
              "\n",
              "  <div id=\"df-794b61e3-d7ef-43dc-a25a-1ef0d958fbc6\">\n",
              "    <div class=\"colab-df-container\">\n",
              "      <div>\n",
              "<style scoped>\n",
              "    .dataframe tbody tr th:only-of-type {\n",
              "        vertical-align: middle;\n",
              "    }\n",
              "\n",
              "    .dataframe tbody tr th {\n",
              "        vertical-align: top;\n",
              "    }\n",
              "\n",
              "    .dataframe thead th {\n",
              "        text-align: right;\n",
              "    }\n",
              "</style>\n",
              "<table border=\"1\" class=\"dataframe\">\n",
              "  <thead>\n",
              "    <tr style=\"text-align: right;\">\n",
              "      <th></th>\n",
              "      <th>medical_speciality</th>\n",
              "      <th>sample_name</th>\n",
              "      <th>description</th>\n",
              "      <th>transcription</th>\n",
              "      <th>keywords</th>\n",
              "    </tr>\n",
              "  </thead>\n",
              "  <tbody>\n",
              "    <tr>\n",
              "      <th>0</th>\n",
              "      <td>Allergy / Immunology</td>\n",
              "      <td>Allergic Rhinitis</td>\n",
              "      <td>A 23-year-old white female presents with compl...</td>\n",
              "      <td>SUBJECTIVE: This 23-year-old white female pres...</td>\n",
              "      <td>allergy / immunology, allergic rhinitis, aller...</td>\n",
              "    </tr>\n",
              "    <tr>\n",
              "      <th>1</th>\n",
              "      <td>Allergy / Immunology</td>\n",
              "      <td>Allergy Evaluation Consult</td>\n",
              "      <td>Acute allergic reaction, etiology uncertain, h...</td>\n",
              "      <td>HISTORY: A 34-year-old male presents today sel...</td>\n",
              "      <td>allergy / immunology, keflex, acute allergic r...</td>\n",
              "    </tr>\n",
              "    <tr>\n",
              "      <th>2</th>\n",
              "      <td>Allergy / Immunology</td>\n",
              "      <td>Asthma in a 5-year-old</td>\n",
              "      <td>Mother states he has been wheezing and coughing.</td>\n",
              "      <td>CHIEF COMPLAINT: This 5-year-old male presents...</td>\n",
              "      <td>allergy / immunology, breathing treatment, air...</td>\n",
              "    </tr>\n",
              "    <tr>\n",
              "      <th>3</th>\n",
              "      <td>Allergy / Immunology</td>\n",
              "      <td>Chronic Sinusitis</td>\n",
              "      <td>Patient having severe sinusitis about two to t...</td>\n",
              "      <td>HISTORY: I had the pleasure of meeting and eva...</td>\n",
              "      <td>allergy / immunology, nasal congestion, facial...</td>\n",
              "    </tr>\n",
              "    <tr>\n",
              "      <th>4</th>\n",
              "      <td>Allergy / Immunology</td>\n",
              "      <td>Evaluation of Allergies</td>\n",
              "      <td>Chronic glossitis, xerostomia, probable enviro...</td>\n",
              "      <td>HISTORY: A 55-year-old female presents self-re...</td>\n",
              "      <td>allergy / immunology, chronic glossitis, xeros...</td>\n",
              "    </tr>\n",
              "    <tr>\n",
              "      <th>...</th>\n",
              "      <td>...</td>\n",
              "      <td>...</td>\n",
              "      <td>...</td>\n",
              "      <td>...</td>\n",
              "      <td>...</td>\n",
              "    </tr>\n",
              "    <tr>\n",
              "      <th>4998</th>\n",
              "      <td>Urology</td>\n",
              "      <td>Vasectomy - 1</td>\n",
              "      <td>Normal vasectomy</td>\n",
              "      <td>DESCRIPTION: The patient was placed in the sup...</td>\n",
              "      <td>urology, vasectomy, allis clamp, catgut, hemoc...</td>\n",
              "    </tr>\n",
              "    <tr>\n",
              "      <th>4999</th>\n",
              "      <td>Urology</td>\n",
              "      <td>Vasectomy - 2</td>\n",
              "      <td>Normal vasectomy</td>\n",
              "      <td>DIAGNOSIS: Desires vasectomy.\\n\\nNAME OF OPERA...</td>\n",
              "      <td>urology, scrotal incision, right vas, bleeding...</td>\n",
              "    </tr>\n",
              "    <tr>\n",
              "      <th>5000</th>\n",
              "      <td>Urology</td>\n",
              "      <td>Vasectomy - 3</td>\n",
              "      <td>Desire for sterility. Vasectomy. The vas was i...</td>\n",
              "      <td>PREOPERATIVE DIAGNOSIS: Desire for sterility.\\...</td>\n",
              "      <td>urology, vas, contralateral, desire for steril...</td>\n",
              "    </tr>\n",
              "    <tr>\n",
              "      <th>5001</th>\n",
              "      <td>Urology</td>\n",
              "      <td>Vasectomy - 4</td>\n",
              "      <td>Fertile male with completed family. Elective m...</td>\n",
              "      <td>PROCEDURE: Elective male sterilization via bil...</td>\n",
              "      <td>urology, sterilization, vas, fertile male, bil...</td>\n",
              "    </tr>\n",
              "    <tr>\n",
              "      <th>5002</th>\n",
              "      <td>Urology</td>\n",
              "      <td>Whole Body Radionuclide Bone Scan</td>\n",
              "      <td>Whole body radionuclide bone scan due to prost...</td>\n",
              "      <td>INDICATION: Prostate Cancer.\\n\\nTECHNIQUE: 3.5...</td>\n",
              "      <td>urology, prostate cancer, technetium, whole bo...</td>\n",
              "    </tr>\n",
              "  </tbody>\n",
              "</table>\n",
              "<p>5003 rows × 5 columns</p>\n",
              "</div>\n",
              "      <button class=\"colab-df-convert\" onclick=\"convertToInteractive('df-794b61e3-d7ef-43dc-a25a-1ef0d958fbc6')\"\n",
              "              title=\"Convert this dataframe to an interactive table.\"\n",
              "              style=\"display:none;\">\n",
              "        \n",
              "  <svg xmlns=\"http://www.w3.org/2000/svg\" height=\"24px\"viewBox=\"0 0 24 24\"\n",
              "       width=\"24px\">\n",
              "    <path d=\"M0 0h24v24H0V0z\" fill=\"none\"/>\n",
              "    <path d=\"M18.56 5.44l.94 2.06.94-2.06 2.06-.94-2.06-.94-.94-2.06-.94 2.06-2.06.94zm-11 1L8.5 8.5l.94-2.06 2.06-.94-2.06-.94L8.5 2.5l-.94 2.06-2.06.94zm10 10l.94 2.06.94-2.06 2.06-.94-2.06-.94-.94-2.06-.94 2.06-2.06.94z\"/><path d=\"M17.41 7.96l-1.37-1.37c-.4-.4-.92-.59-1.43-.59-.52 0-1.04.2-1.43.59L10.3 9.45l-7.72 7.72c-.78.78-.78 2.05 0 2.83L4 21.41c.39.39.9.59 1.41.59.51 0 1.02-.2 1.41-.59l7.78-7.78 2.81-2.81c.8-.78.8-2.07 0-2.86zM5.41 20L4 18.59l7.72-7.72 1.47 1.35L5.41 20z\"/>\n",
              "  </svg>\n",
              "      </button>\n",
              "      \n",
              "  <style>\n",
              "    .colab-df-container {\n",
              "      display:flex;\n",
              "      flex-wrap:wrap;\n",
              "      gap: 12px;\n",
              "    }\n",
              "\n",
              "    .colab-df-convert {\n",
              "      background-color: #E8F0FE;\n",
              "      border: none;\n",
              "      border-radius: 50%;\n",
              "      cursor: pointer;\n",
              "      display: none;\n",
              "      fill: #1967D2;\n",
              "      height: 32px;\n",
              "      padding: 0 0 0 0;\n",
              "      width: 32px;\n",
              "    }\n",
              "\n",
              "    .colab-df-convert:hover {\n",
              "      background-color: #E2EBFA;\n",
              "      box-shadow: 0px 1px 2px rgba(60, 64, 67, 0.3), 0px 1px 3px 1px rgba(60, 64, 67, 0.15);\n",
              "      fill: #174EA6;\n",
              "    }\n",
              "\n",
              "    [theme=dark] .colab-df-convert {\n",
              "      background-color: #3B4455;\n",
              "      fill: #D2E3FC;\n",
              "    }\n",
              "\n",
              "    [theme=dark] .colab-df-convert:hover {\n",
              "      background-color: #434B5C;\n",
              "      box-shadow: 0px 1px 3px 1px rgba(0, 0, 0, 0.15);\n",
              "      filter: drop-shadow(0px 1px 2px rgba(0, 0, 0, 0.3));\n",
              "      fill: #FFFFFF;\n",
              "    }\n",
              "  </style>\n",
              "\n",
              "      <script>\n",
              "        const buttonEl =\n",
              "          document.querySelector('#df-794b61e3-d7ef-43dc-a25a-1ef0d958fbc6 button.colab-df-convert');\n",
              "        buttonEl.style.display =\n",
              "          google.colab.kernel.accessAllowed ? 'block' : 'none';\n",
              "\n",
              "        async function convertToInteractive(key) {\n",
              "          const element = document.querySelector('#df-794b61e3-d7ef-43dc-a25a-1ef0d958fbc6');\n",
              "          const dataTable =\n",
              "            await google.colab.kernel.invokeFunction('convertToInteractive',\n",
              "                                                     [key], {});\n",
              "          if (!dataTable) return;\n",
              "\n",
              "          const docLinkHtml = 'Like what you see? Visit the ' +\n",
              "            '<a target=\"_blank\" href=https://colab.research.google.com/notebooks/data_table.ipynb>data table notebook</a>'\n",
              "            + ' to learn more about interactive tables.';\n",
              "          element.innerHTML = '';\n",
              "          dataTable['output_type'] = 'display_data';\n",
              "          await google.colab.output.renderOutput(dataTable, element);\n",
              "          const docLink = document.createElement('div');\n",
              "          docLink.innerHTML = docLinkHtml;\n",
              "          element.appendChild(docLink);\n",
              "        }\n",
              "      </script>\n",
              "    </div>\n",
              "  </div>\n",
              "  "
            ],
            "text/plain": [
              "        medical_speciality  ...                                           keywords\n",
              "0     Allergy / Immunology  ...  allergy / immunology, allergic rhinitis, aller...\n",
              "1     Allergy / Immunology  ...  allergy / immunology, keflex, acute allergic r...\n",
              "2     Allergy / Immunology  ...  allergy / immunology, breathing treatment, air...\n",
              "3     Allergy / Immunology  ...  allergy / immunology, nasal congestion, facial...\n",
              "4     Allergy / Immunology  ...  allergy / immunology, chronic glossitis, xeros...\n",
              "...                    ...  ...                                                ...\n",
              "4998               Urology  ...  urology, vasectomy, allis clamp, catgut, hemoc...\n",
              "4999               Urology  ...  urology, scrotal incision, right vas, bleeding...\n",
              "5000               Urology  ...  urology, vas, contralateral, desire for steril...\n",
              "5001               Urology  ...  urology, sterilization, vas, fertile male, bil...\n",
              "5002               Urology  ...  urology, prostate cancer, technetium, whole bo...\n",
              "\n",
              "[5003 rows x 5 columns]"
            ]
          },
          "metadata": {},
          "execution_count": 41
        }
      ]
    },
    {
      "cell_type": "code",
      "source": [
        ""
      ],
      "metadata": {
        "id": "S3-Hepom-I2v"
      },
      "execution_count": null,
      "outputs": []
    }
  ]
}