{
  "nbformat": 4,
  "nbformat_minor": 0,
  "metadata": {
    "colab": {
      "name": "mtsamples_sparksql_colab.ipynb",
      "provenance": [],
      "collapsed_sections": []
    },
    "kernelspec": {
      "name": "python3",
      "display_name": "Python 3"
    },
    "language_info": {
      "name": "python"
    }
  },
  "cells": [
    {
      "cell_type": "code",
      "source": [
        "# Clone git to get the data\n",
        "!git clone https://github.com/rasyidpurnama/abd2022"
      ],
      "metadata": {
        "colab": {
          "base_uri": "https://localhost:8080/"
        },
        "id": "wbhSPnlLp6rp",
        "outputId": "4e9af3e9-0a00-4bad-fce1-f92b1eb23d81"
      },
      "execution_count": 1,
      "outputs": [
        {
          "output_type": "stream",
          "name": "stdout",
          "text": [
            "Cloning into 'abd2022'...\n",
            "remote: Enumerating objects: 13, done.\u001b[K\n",
            "remote: Counting objects: 100% (13/13), done.\u001b[K\n",
            "remote: Compressing objects: 100% (11/11), done.\u001b[K\n",
            "remote: Total 13 (delta 2), reused 3 (delta 0), pack-reused 0\u001b[K\n",
            "Unpacking objects: 100% (13/13), done.\n"
          ]
        }
      ]
    },
    {
      "cell_type": "code",
      "source": [
        "cd abd2022"
      ],
      "metadata": {
        "colab": {
          "base_uri": "https://localhost:8080/"
        },
        "id": "A2uKZJzWqCZx",
        "outputId": "8c3d6896-a68a-4ec3-f47b-ba3dd07c8acf"
      },
      "execution_count": 2,
      "outputs": [
        {
          "output_type": "stream",
          "name": "stdout",
          "text": [
            "/content/abd2022\n"
          ]
        }
      ]
    },
    {
      "cell_type": "code",
      "execution_count": 3,
      "metadata": {
        "id": "57treBRH-9ny"
      },
      "outputs": [],
      "source": [
        "# Importing packages \n",
        "import numpy as np\n",
        "import pandas as pd\n",
        "from functools import reduce"
      ]
    },
    {
      "cell_type": "code",
      "source": [
        "# Read the data\n",
        "df = pd.read_csv(\"mtsamples_20220222.csv\").drop_duplicates().dropna().reset_index(drop=True)\n",
        "df.head()"
      ],
      "metadata": {
        "colab": {
          "base_uri": "https://localhost:8080/",
          "height": 206
        },
        "outputId": "de3552d6-249e-4be0-e245-34ea7a831753",
        "id": "q2bAmUZC-9ny"
      },
      "execution_count": 4,
      "outputs": [
        {
          "output_type": "execute_result",
          "data": {
            "text/plain": [
              "     medical_speciality                 sample_name  \\\n",
              "0  Allergy / Immunology           Allergic Rhinitis   \n",
              "1  Allergy / Immunology  Allergy Evaluation Consult   \n",
              "2  Allergy / Immunology      Asthma in a 5-year-old   \n",
              "3  Allergy / Immunology           Chronic Sinusitis   \n",
              "4  Allergy / Immunology     Evaluation of Allergies   \n",
              "\n",
              "                                         description  \\\n",
              "0  A 23-year-old white female presents with compl...   \n",
              "1  Acute allergic reaction, etiology uncertain, h...   \n",
              "2   Mother states he has been wheezing and coughing.   \n",
              "3  Patient having severe sinusitis about two to t...   \n",
              "4  Chronic glossitis, xerostomia, probable enviro...   \n",
              "\n",
              "                                       transcription  \\\n",
              "0  SUBJECTIVE: This 23-year-old white female pres...   \n",
              "1  HISTORY: A 34-year-old male presents today sel...   \n",
              "2  CHIEF COMPLAINT: This 5-year-old male presents...   \n",
              "3  HISTORY: I had the pleasure of meeting and eva...   \n",
              "4  HISTORY: A 55-year-old female presents self-re...   \n",
              "\n",
              "                                            keywords  \n",
              "0  allergy / immunology, allergic rhinitis, aller...  \n",
              "1  allergy / immunology, keflex, acute allergic r...  \n",
              "2  allergy / immunology, breathing treatment, air...  \n",
              "3  allergy / immunology, nasal congestion, facial...  \n",
              "4  allergy / immunology, chronic glossitis, xeros...  "
            ],
            "text/html": [
              "\n",
              "  <div id=\"df-06805888-801a-41b1-9218-609a9364e572\">\n",
              "    <div class=\"colab-df-container\">\n",
              "      <div>\n",
              "<style scoped>\n",
              "    .dataframe tbody tr th:only-of-type {\n",
              "        vertical-align: middle;\n",
              "    }\n",
              "\n",
              "    .dataframe tbody tr th {\n",
              "        vertical-align: top;\n",
              "    }\n",
              "\n",
              "    .dataframe thead th {\n",
              "        text-align: right;\n",
              "    }\n",
              "</style>\n",
              "<table border=\"1\" class=\"dataframe\">\n",
              "  <thead>\n",
              "    <tr style=\"text-align: right;\">\n",
              "      <th></th>\n",
              "      <th>medical_speciality</th>\n",
              "      <th>sample_name</th>\n",
              "      <th>description</th>\n",
              "      <th>transcription</th>\n",
              "      <th>keywords</th>\n",
              "    </tr>\n",
              "  </thead>\n",
              "  <tbody>\n",
              "    <tr>\n",
              "      <th>0</th>\n",
              "      <td>Allergy / Immunology</td>\n",
              "      <td>Allergic Rhinitis</td>\n",
              "      <td>A 23-year-old white female presents with compl...</td>\n",
              "      <td>SUBJECTIVE: This 23-year-old white female pres...</td>\n",
              "      <td>allergy / immunology, allergic rhinitis, aller...</td>\n",
              "    </tr>\n",
              "    <tr>\n",
              "      <th>1</th>\n",
              "      <td>Allergy / Immunology</td>\n",
              "      <td>Allergy Evaluation Consult</td>\n",
              "      <td>Acute allergic reaction, etiology uncertain, h...</td>\n",
              "      <td>HISTORY: A 34-year-old male presents today sel...</td>\n",
              "      <td>allergy / immunology, keflex, acute allergic r...</td>\n",
              "    </tr>\n",
              "    <tr>\n",
              "      <th>2</th>\n",
              "      <td>Allergy / Immunology</td>\n",
              "      <td>Asthma in a 5-year-old</td>\n",
              "      <td>Mother states he has been wheezing and coughing.</td>\n",
              "      <td>CHIEF COMPLAINT: This 5-year-old male presents...</td>\n",
              "      <td>allergy / immunology, breathing treatment, air...</td>\n",
              "    </tr>\n",
              "    <tr>\n",
              "      <th>3</th>\n",
              "      <td>Allergy / Immunology</td>\n",
              "      <td>Chronic Sinusitis</td>\n",
              "      <td>Patient having severe sinusitis about two to t...</td>\n",
              "      <td>HISTORY: I had the pleasure of meeting and eva...</td>\n",
              "      <td>allergy / immunology, nasal congestion, facial...</td>\n",
              "    </tr>\n",
              "    <tr>\n",
              "      <th>4</th>\n",
              "      <td>Allergy / Immunology</td>\n",
              "      <td>Evaluation of Allergies</td>\n",
              "      <td>Chronic glossitis, xerostomia, probable enviro...</td>\n",
              "      <td>HISTORY: A 55-year-old female presents self-re...</td>\n",
              "      <td>allergy / immunology, chronic glossitis, xeros...</td>\n",
              "    </tr>\n",
              "  </tbody>\n",
              "</table>\n",
              "</div>\n",
              "      <button class=\"colab-df-convert\" onclick=\"convertToInteractive('df-06805888-801a-41b1-9218-609a9364e572')\"\n",
              "              title=\"Convert this dataframe to an interactive table.\"\n",
              "              style=\"display:none;\">\n",
              "        \n",
              "  <svg xmlns=\"http://www.w3.org/2000/svg\" height=\"24px\"viewBox=\"0 0 24 24\"\n",
              "       width=\"24px\">\n",
              "    <path d=\"M0 0h24v24H0V0z\" fill=\"none\"/>\n",
              "    <path d=\"M18.56 5.44l.94 2.06.94-2.06 2.06-.94-2.06-.94-.94-2.06-.94 2.06-2.06.94zm-11 1L8.5 8.5l.94-2.06 2.06-.94-2.06-.94L8.5 2.5l-.94 2.06-2.06.94zm10 10l.94 2.06.94-2.06 2.06-.94-2.06-.94-.94-2.06-.94 2.06-2.06.94z\"/><path d=\"M17.41 7.96l-1.37-1.37c-.4-.4-.92-.59-1.43-.59-.52 0-1.04.2-1.43.59L10.3 9.45l-7.72 7.72c-.78.78-.78 2.05 0 2.83L4 21.41c.39.39.9.59 1.41.59.51 0 1.02-.2 1.41-.59l7.78-7.78 2.81-2.81c.8-.78.8-2.07 0-2.86zM5.41 20L4 18.59l7.72-7.72 1.47 1.35L5.41 20z\"/>\n",
              "  </svg>\n",
              "      </button>\n",
              "      \n",
              "  <style>\n",
              "    .colab-df-container {\n",
              "      display:flex;\n",
              "      flex-wrap:wrap;\n",
              "      gap: 12px;\n",
              "    }\n",
              "\n",
              "    .colab-df-convert {\n",
              "      background-color: #E8F0FE;\n",
              "      border: none;\n",
              "      border-radius: 50%;\n",
              "      cursor: pointer;\n",
              "      display: none;\n",
              "      fill: #1967D2;\n",
              "      height: 32px;\n",
              "      padding: 0 0 0 0;\n",
              "      width: 32px;\n",
              "    }\n",
              "\n",
              "    .colab-df-convert:hover {\n",
              "      background-color: #E2EBFA;\n",
              "      box-shadow: 0px 1px 2px rgba(60, 64, 67, 0.3), 0px 1px 3px 1px rgba(60, 64, 67, 0.15);\n",
              "      fill: #174EA6;\n",
              "    }\n",
              "\n",
              "    [theme=dark] .colab-df-convert {\n",
              "      background-color: #3B4455;\n",
              "      fill: #D2E3FC;\n",
              "    }\n",
              "\n",
              "    [theme=dark] .colab-df-convert:hover {\n",
              "      background-color: #434B5C;\n",
              "      box-shadow: 0px 1px 3px 1px rgba(0, 0, 0, 0.15);\n",
              "      filter: drop-shadow(0px 1px 2px rgba(0, 0, 0, 0.3));\n",
              "      fill: #FFFFFF;\n",
              "    }\n",
              "  </style>\n",
              "\n",
              "      <script>\n",
              "        const buttonEl =\n",
              "          document.querySelector('#df-06805888-801a-41b1-9218-609a9364e572 button.colab-df-convert');\n",
              "        buttonEl.style.display =\n",
              "          google.colab.kernel.accessAllowed ? 'block' : 'none';\n",
              "\n",
              "        async function convertToInteractive(key) {\n",
              "          const element = document.querySelector('#df-06805888-801a-41b1-9218-609a9364e572');\n",
              "          const dataTable =\n",
              "            await google.colab.kernel.invokeFunction('convertToInteractive',\n",
              "                                                     [key], {});\n",
              "          if (!dataTable) return;\n",
              "\n",
              "          const docLinkHtml = 'Like what you see? Visit the ' +\n",
              "            '<a target=\"_blank\" href=https://colab.research.google.com/notebooks/data_table.ipynb>data table notebook</a>'\n",
              "            + ' to learn more about interactive tables.';\n",
              "          element.innerHTML = '';\n",
              "          dataTable['output_type'] = 'display_data';\n",
              "          await google.colab.output.renderOutput(dataTable, element);\n",
              "          const docLink = document.createElement('div');\n",
              "          docLink.innerHTML = docLinkHtml;\n",
              "          element.appendChild(docLink);\n",
              "        }\n",
              "      </script>\n",
              "    </div>\n",
              "  </div>\n",
              "  "
            ]
          },
          "metadata": {},
          "execution_count": 4
        }
      ]
    },
    {
      "cell_type": "code",
      "source": [
        "# only use transcription columns for input  \n",
        "df['text'] = df.apply(lambda x: x['transcription'], axis=1).str.lower()\n",
        "\n",
        "# a little bit preprocesing delete unknown characters\n",
        "text_to_filter = ' '.join(df.text.values.flatten().tolist())\n",
        "import re, numpy as np\n",
        "excluded = [ st for st in np.unique(re.findall(r'.', text_to_filter)) if not re.search(r'[a-z]', st) and not re.search(r'[0-9]', st) and st not in ['%','/','-','!',' ']]\n",
        "print(excluded)\n",
        "for exc in excluded:\n",
        "    df['text'] = df['text'].str.replace(exc, '')\n",
        "df['text'] = df['text'].str.replace('\\n', ' ')\n",
        "df['text'] = df['text'].astype(str)\n",
        "df.head(5)"
      ],
      "metadata": {
        "colab": {
          "base_uri": "https://localhost:8080/",
          "height": 411
        },
        "id": "KpPxF5z84f0E",
        "outputId": "8322370f-5010-4d13-da69-6e0a85c96d06"
      },
      "execution_count": 5,
      "outputs": [
        {
          "output_type": "stream",
          "name": "stdout",
          "text": [
            "['\"', '#', '$', '&', \"'\", '(', ')', '*', '+', ',', '.', ':', ';', '<', '=', '>', '?', '@', '[', ']', '_', '{', '|', '}', '©', '®', '°', 'µ', '·', 'º', '¼', '½', 'è', 'é', 'ü', '–', '’', '“', '”', '…']\n"
          ]
        },
        {
          "output_type": "stream",
          "name": "stderr",
          "text": [
            "/usr/local/lib/python3.7/dist-packages/ipykernel_launcher.py:10: FutureWarning: The default value of regex will change from True to False in a future version. In addition, single character regular expressions will *not* be treated as literal strings when regex=True.\n",
            "  # Remove the CWD from sys.path while we load stuff.\n"
          ]
        },
        {
          "output_type": "execute_result",
          "data": {
            "text/plain": [
              "     medical_speciality                 sample_name  \\\n",
              "0  Allergy / Immunology           Allergic Rhinitis   \n",
              "1  Allergy / Immunology  Allergy Evaluation Consult   \n",
              "2  Allergy / Immunology      Asthma in a 5-year-old   \n",
              "3  Allergy / Immunology           Chronic Sinusitis   \n",
              "4  Allergy / Immunology     Evaluation of Allergies   \n",
              "\n",
              "                                         description  \\\n",
              "0  A 23-year-old white female presents with compl...   \n",
              "1  Acute allergic reaction, etiology uncertain, h...   \n",
              "2   Mother states he has been wheezing and coughing.   \n",
              "3  Patient having severe sinusitis about two to t...   \n",
              "4  Chronic glossitis, xerostomia, probable enviro...   \n",
              "\n",
              "                                       transcription  \\\n",
              "0  SUBJECTIVE: This 23-year-old white female pres...   \n",
              "1  HISTORY: A 34-year-old male presents today sel...   \n",
              "2  CHIEF COMPLAINT: This 5-year-old male presents...   \n",
              "3  HISTORY: I had the pleasure of meeting and eva...   \n",
              "4  HISTORY: A 55-year-old female presents self-re...   \n",
              "\n",
              "                                            keywords  \\\n",
              "0  allergy / immunology, allergic rhinitis, aller...   \n",
              "1  allergy / immunology, keflex, acute allergic r...   \n",
              "2  allergy / immunology, breathing treatment, air...   \n",
              "3  allergy / immunology, nasal congestion, facial...   \n",
              "4  allergy / immunology, chronic glossitis, xeros...   \n",
              "\n",
              "                                                text  \n",
              "0  subjective this 23-year-old white female prese...  \n",
              "1  history a 34-year-old male presents today self...  \n",
              "2  chief complaint this 5-year-old male presents ...  \n",
              "3  history i had the pleasure of meeting and eval...  \n",
              "4  history a 55-year-old female presents self-ref...  "
            ],
            "text/html": [
              "\n",
              "  <div id=\"df-70e50527-78e4-4b35-9520-b3b3900b9fe3\">\n",
              "    <div class=\"colab-df-container\">\n",
              "      <div>\n",
              "<style scoped>\n",
              "    .dataframe tbody tr th:only-of-type {\n",
              "        vertical-align: middle;\n",
              "    }\n",
              "\n",
              "    .dataframe tbody tr th {\n",
              "        vertical-align: top;\n",
              "    }\n",
              "\n",
              "    .dataframe thead th {\n",
              "        text-align: right;\n",
              "    }\n",
              "</style>\n",
              "<table border=\"1\" class=\"dataframe\">\n",
              "  <thead>\n",
              "    <tr style=\"text-align: right;\">\n",
              "      <th></th>\n",
              "      <th>medical_speciality</th>\n",
              "      <th>sample_name</th>\n",
              "      <th>description</th>\n",
              "      <th>transcription</th>\n",
              "      <th>keywords</th>\n",
              "      <th>text</th>\n",
              "    </tr>\n",
              "  </thead>\n",
              "  <tbody>\n",
              "    <tr>\n",
              "      <th>0</th>\n",
              "      <td>Allergy / Immunology</td>\n",
              "      <td>Allergic Rhinitis</td>\n",
              "      <td>A 23-year-old white female presents with compl...</td>\n",
              "      <td>SUBJECTIVE: This 23-year-old white female pres...</td>\n",
              "      <td>allergy / immunology, allergic rhinitis, aller...</td>\n",
              "      <td>subjective this 23-year-old white female prese...</td>\n",
              "    </tr>\n",
              "    <tr>\n",
              "      <th>1</th>\n",
              "      <td>Allergy / Immunology</td>\n",
              "      <td>Allergy Evaluation Consult</td>\n",
              "      <td>Acute allergic reaction, etiology uncertain, h...</td>\n",
              "      <td>HISTORY: A 34-year-old male presents today sel...</td>\n",
              "      <td>allergy / immunology, keflex, acute allergic r...</td>\n",
              "      <td>history a 34-year-old male presents today self...</td>\n",
              "    </tr>\n",
              "    <tr>\n",
              "      <th>2</th>\n",
              "      <td>Allergy / Immunology</td>\n",
              "      <td>Asthma in a 5-year-old</td>\n",
              "      <td>Mother states he has been wheezing and coughing.</td>\n",
              "      <td>CHIEF COMPLAINT: This 5-year-old male presents...</td>\n",
              "      <td>allergy / immunology, breathing treatment, air...</td>\n",
              "      <td>chief complaint this 5-year-old male presents ...</td>\n",
              "    </tr>\n",
              "    <tr>\n",
              "      <th>3</th>\n",
              "      <td>Allergy / Immunology</td>\n",
              "      <td>Chronic Sinusitis</td>\n",
              "      <td>Patient having severe sinusitis about two to t...</td>\n",
              "      <td>HISTORY: I had the pleasure of meeting and eva...</td>\n",
              "      <td>allergy / immunology, nasal congestion, facial...</td>\n",
              "      <td>history i had the pleasure of meeting and eval...</td>\n",
              "    </tr>\n",
              "    <tr>\n",
              "      <th>4</th>\n",
              "      <td>Allergy / Immunology</td>\n",
              "      <td>Evaluation of Allergies</td>\n",
              "      <td>Chronic glossitis, xerostomia, probable enviro...</td>\n",
              "      <td>HISTORY: A 55-year-old female presents self-re...</td>\n",
              "      <td>allergy / immunology, chronic glossitis, xeros...</td>\n",
              "      <td>history a 55-year-old female presents self-ref...</td>\n",
              "    </tr>\n",
              "  </tbody>\n",
              "</table>\n",
              "</div>\n",
              "      <button class=\"colab-df-convert\" onclick=\"convertToInteractive('df-70e50527-78e4-4b35-9520-b3b3900b9fe3')\"\n",
              "              title=\"Convert this dataframe to an interactive table.\"\n",
              "              style=\"display:none;\">\n",
              "        \n",
              "  <svg xmlns=\"http://www.w3.org/2000/svg\" height=\"24px\"viewBox=\"0 0 24 24\"\n",
              "       width=\"24px\">\n",
              "    <path d=\"M0 0h24v24H0V0z\" fill=\"none\"/>\n",
              "    <path d=\"M18.56 5.44l.94 2.06.94-2.06 2.06-.94-2.06-.94-.94-2.06-.94 2.06-2.06.94zm-11 1L8.5 8.5l.94-2.06 2.06-.94-2.06-.94L8.5 2.5l-.94 2.06-2.06.94zm10 10l.94 2.06.94-2.06 2.06-.94-2.06-.94-.94-2.06-.94 2.06-2.06.94z\"/><path d=\"M17.41 7.96l-1.37-1.37c-.4-.4-.92-.59-1.43-.59-.52 0-1.04.2-1.43.59L10.3 9.45l-7.72 7.72c-.78.78-.78 2.05 0 2.83L4 21.41c.39.39.9.59 1.41.59.51 0 1.02-.2 1.41-.59l7.78-7.78 2.81-2.81c.8-.78.8-2.07 0-2.86zM5.41 20L4 18.59l7.72-7.72 1.47 1.35L5.41 20z\"/>\n",
              "  </svg>\n",
              "      </button>\n",
              "      \n",
              "  <style>\n",
              "    .colab-df-container {\n",
              "      display:flex;\n",
              "      flex-wrap:wrap;\n",
              "      gap: 12px;\n",
              "    }\n",
              "\n",
              "    .colab-df-convert {\n",
              "      background-color: #E8F0FE;\n",
              "      border: none;\n",
              "      border-radius: 50%;\n",
              "      cursor: pointer;\n",
              "      display: none;\n",
              "      fill: #1967D2;\n",
              "      height: 32px;\n",
              "      padding: 0 0 0 0;\n",
              "      width: 32px;\n",
              "    }\n",
              "\n",
              "    .colab-df-convert:hover {\n",
              "      background-color: #E2EBFA;\n",
              "      box-shadow: 0px 1px 2px rgba(60, 64, 67, 0.3), 0px 1px 3px 1px rgba(60, 64, 67, 0.15);\n",
              "      fill: #174EA6;\n",
              "    }\n",
              "\n",
              "    [theme=dark] .colab-df-convert {\n",
              "      background-color: #3B4455;\n",
              "      fill: #D2E3FC;\n",
              "    }\n",
              "\n",
              "    [theme=dark] .colab-df-convert:hover {\n",
              "      background-color: #434B5C;\n",
              "      box-shadow: 0px 1px 3px 1px rgba(0, 0, 0, 0.15);\n",
              "      filter: drop-shadow(0px 1px 2px rgba(0, 0, 0, 0.3));\n",
              "      fill: #FFFFFF;\n",
              "    }\n",
              "  </style>\n",
              "\n",
              "      <script>\n",
              "        const buttonEl =\n",
              "          document.querySelector('#df-70e50527-78e4-4b35-9520-b3b3900b9fe3 button.colab-df-convert');\n",
              "        buttonEl.style.display =\n",
              "          google.colab.kernel.accessAllowed ? 'block' : 'none';\n",
              "\n",
              "        async function convertToInteractive(key) {\n",
              "          const element = document.querySelector('#df-70e50527-78e4-4b35-9520-b3b3900b9fe3');\n",
              "          const dataTable =\n",
              "            await google.colab.kernel.invokeFunction('convertToInteractive',\n",
              "                                                     [key], {});\n",
              "          if (!dataTable) return;\n",
              "\n",
              "          const docLinkHtml = 'Like what you see? Visit the ' +\n",
              "            '<a target=\"_blank\" href=https://colab.research.google.com/notebooks/data_table.ipynb>data table notebook</a>'\n",
              "            + ' to learn more about interactive tables.';\n",
              "          element.innerHTML = '';\n",
              "          dataTable['output_type'] = 'display_data';\n",
              "          await google.colab.output.renderOutput(dataTable, element);\n",
              "          const docLink = document.createElement('div');\n",
              "          docLink.innerHTML = docLinkHtml;\n",
              "          element.appendChild(docLink);\n",
              "        }\n",
              "      </script>\n",
              "    </div>\n",
              "  </div>\n",
              "  "
            ]
          },
          "metadata": {},
          "execution_count": 5
        }
      ]
    },
    {
      "cell_type": "code",
      "source": [
        "# get 10 random samples for each top 25 medical_speciality  \n",
        "df = pd.concat([df[df.medical_speciality==_].sample(100, random_state=10) for _ in df.medical_speciality.value_counts()[:10].index], axis=0).reset_index(drop=False)"
      ],
      "metadata": {
        "id": "X73fcraQ4xDM"
      },
      "execution_count": 6,
      "outputs": []
    },
    {
      "cell_type": "code",
      "source": [
        "# save to csv on column text \n",
        "df[['text']].to_csv('data.csv', index=False)\n",
        "pd.read_csv('data.csv').shape"
      ],
      "metadata": {
        "colab": {
          "base_uri": "https://localhost:8080/"
        },
        "id": "xfr-qX4y40Ec",
        "outputId": "5cce2779-2307-40c0-8e2f-98ee12d00150"
      },
      "execution_count": 7,
      "outputs": [
        {
          "output_type": "execute_result",
          "data": {
            "text/plain": [
              "(1000, 1)"
            ]
          },
          "metadata": {},
          "execution_count": 7
        }
      ]
    },
    {
      "cell_type": "code",
      "source": [
        "df.medical_speciality.value_counts()[:10]"
      ],
      "metadata": {
        "colab": {
          "base_uri": "https://localhost:8080/"
        },
        "id": "ebFcym9o45r0",
        "outputId": "be76486a-03d7-4a89-8008-4501630ef07f"
      },
      "execution_count": 8,
      "outputs": [
        {
          "output_type": "execute_result",
          "data": {
            "text/plain": [
              "Surgery                          100\n",
              "Consult - History and Phy.       100\n",
              "Cardiovascular / Pulmonary       100\n",
              "Orthopedic                       100\n",
              "Radiology                        100\n",
              "General Medicine                 100\n",
              "Gastroenterology                 100\n",
              "Neurology                        100\n",
              "SOAP / Chart / Progress Notes    100\n",
              "Obstetrics / Gynecology          100\n",
              "Name: medical_speciality, dtype: int64"
            ]
          },
          "metadata": {},
          "execution_count": 8
        }
      ]
    },
    {
      "cell_type": "markdown",
      "source": [
        "### Perbandingan menggunakan sparksql dan pandas"
      ],
      "metadata": {
        "id": "B43AklYV_OJM"
      }
    },
    {
      "cell_type": "code",
      "source": [
        "%%time\n",
        "# duplikasi baris pandas \n",
        "pandas = pd.concat([df[['medical_speciality','keywords','text']]]*1000).reset_index(drop=True)"
      ],
      "metadata": {
        "colab": {
          "base_uri": "https://localhost:8080/"
        },
        "id": "-upLITwy_YgV",
        "outputId": "d26f0ce8-e231-43e9-978a-cdf987a72b72"
      },
      "execution_count": 31,
      "outputs": [
        {
          "output_type": "stream",
          "name": "stdout",
          "text": [
            "CPU times: user 169 ms, sys: 29 ms, total: 198 ms\n",
            "Wall time: 239 ms\n"
          ]
        }
      ]
    },
    {
      "cell_type": "code",
      "source": [
        "# save to csv, then load to spark dataframe\n",
        "pandas.to_csv('spark_data.csv',index=False)"
      ],
      "metadata": {
        "id": "_BLZucAt_xEx"
      },
      "execution_count": 20,
      "outputs": []
    },
    {
      "cell_type": "code",
      "source": [
        "!wget https://raw.githubusercontent.com/JohnSnowLabs/spark-nlp/master/scripts/colab_setup.sh\n",
        "!bash colab_setup.sh\n",
        "\n",
        "# Install sparknlp-display\n",
        "! pip install spark-nlp-display"
      ],
      "metadata": {
        "colab": {
          "base_uri": "https://localhost:8080/"
        },
        "id": "OlfmAAleBsP6",
        "outputId": "6f1619a5-e60c-41a3-f8ec-a346840da0d5"
      },
      "execution_count": 23,
      "outputs": [
        {
          "output_type": "stream",
          "name": "stdout",
          "text": [
            "--2022-03-30 22:51:31--  https://raw.githubusercontent.com/JohnSnowLabs/spark-nlp/master/scripts/colab_setup.sh\n",
            "Resolving raw.githubusercontent.com (raw.githubusercontent.com)... 185.199.108.133, 185.199.109.133, 185.199.110.133, ...\n",
            "Connecting to raw.githubusercontent.com (raw.githubusercontent.com)|185.199.108.133|:443... connected.\n",
            "HTTP request sent, awaiting response... 200 OK\n",
            "Length: 1453 (1.4K) [text/plain]\n",
            "Saving to: ‘colab_setup.sh’\n",
            "\n",
            "colab_setup.sh      100%[===================>]   1.42K  --.-KB/s    in 0s      \n",
            "\n",
            "2022-03-30 22:51:31 (17.7 MB/s) - ‘colab_setup.sh’ saved [1453/1453]\n",
            "\n",
            "setup Colab for PySpark 3.0.3 and Spark NLP 3.4.2\n",
            "Installing PySpark 3.0.3 and Spark NLP 3.4.2\n",
            "\u001b[K     |████████████████████████████████| 209.1 MB 58 kB/s \n",
            "\u001b[K     |████████████████████████████████| 142 kB 36.9 MB/s \n",
            "\u001b[K     |████████████████████████████████| 198 kB 33.0 MB/s \n",
            "\u001b[?25h  Building wheel for pyspark (setup.py) ... \u001b[?25l\u001b[?25hdone\n",
            "Collecting spark-nlp-display\n",
            "  Downloading spark_nlp_display-1.9.1-py3-none-any.whl (95 kB)\n",
            "\u001b[K     |████████████████████████████████| 95 kB 2.5 MB/s \n",
            "\u001b[?25hRequirement already satisfied: ipython in /usr/local/lib/python3.7/dist-packages (from spark-nlp-display) (5.5.0)\n",
            "Requirement already satisfied: spark-nlp in /usr/local/lib/python3.7/dist-packages (from spark-nlp-display) (3.4.2)\n",
            "Requirement already satisfied: pandas in /usr/local/lib/python3.7/dist-packages (from spark-nlp-display) (1.3.5)\n",
            "Collecting svgwrite==1.4\n",
            "  Downloading svgwrite-1.4-py3-none-any.whl (66 kB)\n",
            "\u001b[K     |████████████████████████████████| 66 kB 3.9 MB/s \n",
            "\u001b[?25hRequirement already satisfied: numpy in /usr/local/lib/python3.7/dist-packages (from spark-nlp-display) (1.21.5)\n",
            "Requirement already satisfied: simplegeneric>0.8 in /usr/local/lib/python3.7/dist-packages (from ipython->spark-nlp-display) (0.8.1)\n",
            "Requirement already satisfied: setuptools>=18.5 in /usr/local/lib/python3.7/dist-packages (from ipython->spark-nlp-display) (57.4.0)\n",
            "Requirement already satisfied: pygments in /usr/local/lib/python3.7/dist-packages (from ipython->spark-nlp-display) (2.6.1)\n",
            "Requirement already satisfied: decorator in /usr/local/lib/python3.7/dist-packages (from ipython->spark-nlp-display) (4.4.2)\n",
            "Requirement already satisfied: prompt-toolkit<2.0.0,>=1.0.4 in /usr/local/lib/python3.7/dist-packages (from ipython->spark-nlp-display) (1.0.18)\n",
            "Requirement already satisfied: traitlets>=4.2 in /usr/local/lib/python3.7/dist-packages (from ipython->spark-nlp-display) (5.1.1)\n",
            "Requirement already satisfied: pexpect in /usr/local/lib/python3.7/dist-packages (from ipython->spark-nlp-display) (4.8.0)\n",
            "Requirement already satisfied: pickleshare in /usr/local/lib/python3.7/dist-packages (from ipython->spark-nlp-display) (0.7.5)\n",
            "Requirement already satisfied: six>=1.9.0 in /usr/local/lib/python3.7/dist-packages (from prompt-toolkit<2.0.0,>=1.0.4->ipython->spark-nlp-display) (1.15.0)\n",
            "Requirement already satisfied: wcwidth in /usr/local/lib/python3.7/dist-packages (from prompt-toolkit<2.0.0,>=1.0.4->ipython->spark-nlp-display) (0.2.5)\n",
            "Requirement already satisfied: python-dateutil>=2.7.3 in /usr/local/lib/python3.7/dist-packages (from pandas->spark-nlp-display) (2.8.2)\n",
            "Requirement already satisfied: pytz>=2017.3 in /usr/local/lib/python3.7/dist-packages (from pandas->spark-nlp-display) (2018.9)\n",
            "Requirement already satisfied: ptyprocess>=0.5 in /usr/local/lib/python3.7/dist-packages (from pexpect->ipython->spark-nlp-display) (0.7.0)\n",
            "Installing collected packages: svgwrite, spark-nlp-display\n",
            "Successfully installed spark-nlp-display-1.9.1 svgwrite-1.4\n"
          ]
        }
      ]
    },
    {
      "cell_type": "code",
      "source": [
        "import sparknlp\n",
        "from pyspark.ml import Pipeline\n",
        "from sparknlp.base import *\n",
        "import pyspark.sql.functions as F\n",
        "from sparknlp.annotator import *\n",
        "\n",
        "spark = sparknlp.start()\n",
        "\n",
        "print(\"Spark NLP version\", sparknlp.version())\n",
        "print(\"Apache Spark version:\", spark.version)"
      ],
      "metadata": {
        "colab": {
          "base_uri": "https://localhost:8080/"
        },
        "id": "qccufhxNBoBS",
        "outputId": "c86e8b1a-fdb5-4a7f-bc3a-7e743c6e1495"
      },
      "execution_count": 24,
      "outputs": [
        {
          "output_type": "stream",
          "name": "stdout",
          "text": [
            "Spark NLP version 3.4.2\n",
            "Apache Spark version: 3.0.3\n"
          ]
        }
      ]
    },
    {
      "cell_type": "code",
      "source": [
        "sparkdata = spark.read.csv('spark_data.csv', header=True, inferSchema=True)\n",
        "sparkdata.show(truncate=90)\n",
        "sparkdata.count()"
      ],
      "metadata": {
        "colab": {
          "base_uri": "https://localhost:8080/"
        },
        "id": "Dpr7hNV1AUsg",
        "outputId": "3b259a6b-2e9d-4bbd-954c-4e3d24023e3a"
      },
      "execution_count": 33,
      "outputs": [
        {
          "output_type": "stream",
          "name": "stdout",
          "text": [
            "+------------------+------------------------------------------------------------------------------------------+------------------------------------------------------------------------------------------+\n",
            "|medical_speciality|                                                                                  keywords|                                                                                      text|\n",
            "+------------------+------------------------------------------------------------------------------------------+------------------------------------------------------------------------------------------+\n",
            "|           Surgery|surgery, range-of-motion, hip, total hip replacement, gluteus maximus, femoral head, su...|procedure total hip replacement  procedure description the patient was bought to the op...|\n",
            "|           Surgery|surgery, lens implantation, anterior chamber, lid speculum, eye, sinskey hook, cataract...|procedure performed cataract extraction with lens implantation right eye  description o...|\n",
            "|           Surgery|surgery, phalanx fracture, schantz pins, toe fracture, tibia fracture, pilon fracture, ...|preop diagnoses 1 left pilon fracture 2 left great toe proximal phalanx fracture  posto...|\n",
            "|           Surgery|      surgery, bladder neck, bladder tumors, cystoscopy, tur, electrofulguration, bladder,|preoperative diagnosis recurrent bladder tumors  postoperative diagnosis recurrent blad...|\n",
            "|           Surgery|surgery, anterior exposure, degenerative disk disease, disk disease, disk space, diskec...|preoperative diagnosis degenerative disk disease at l4-l5 and l5-s1  postoperative diag...|\n",
            "|           Surgery|   surgery, antiseptic, local anesthetic, hemostasis, punch biopsy, band-aid, skin biopsy,|the patient was consented for skin biopsy the complications instructions as to how the ...|\n",
            "|           Surgery|surgery, varicose veins, saphenous vein, stripping, ligation, vein stripping, lower ext...|preoperative diagnosis varicose veins  postoperative diagnosis varicose veins  procedur...|\n",
            "|           Surgery|surgery, facetectomies, decompression, posterolateral fusion, synthes click'x system, d...|preoperative diagnosis t12 compression fracture with cauda equina syndrome and spinal c...|\n",
            "|           Surgery|surgery, parapharyngeal, dysphagia, sinus pooling, piriform, nasolaryngoscopy, fiberopt...|preoperative diagnoses 1 dysphagia 2 right parapharyngeal hemorrhagic lesion  postopera...|\n",
            "|           Surgery|surgery, herniated nucleus pulposus, anterior cervical discectomy, artificial disk repl...|admitting diagnosis right c5-c6 herniated nucleus pulposus  primary operative procedure...|\n",
            "|           Surgery|surgery, patellofemoral, eburnation, osteophyte, articulation, tibial, femoral, bilater...|preoperative diagnosis bilateral knee degenerative arthritis  postoperative diagnosis b...|\n",
            "|           Surgery|surgery, spontaneous pneumothorax, barometric trauma, respiratory failure, sepsis, pneu...|preoperative diagnoses 1 right spontaneous pneumothorax secondary to barometric trauma ...|\n",
            "|           Surgery|surgery, lateral decubitus position, gastroesophageal reflux disease, gerd, normal uppe...|procedure upper endoscopy  preoperative diagnosis dysphagia  postoperative diagnosis 1 ...|\n",
            "|           Surgery|surgery, cervical spondylosis, cervical fusion, decompression, instrumentation, anterio...|preoperative diagnoses 1 herniated disc c5-c6 2 cervical spondylosis c5-c6  postoperati...|\n",
            "|           Surgery|surgery, hypertrophic adenotonsillitis, adenotonsillitis, endotracheal anesthesia, cobl...|preoperative diagnosis chronic hypertrophic adenotonsillitis  postoperative diagnosis c...|\n",
            "|           Surgery|surgery, dorsally, toe, ulcerations, foot infection, ray resection, metatarsophalangeal...|preoperative diagnosis gangrene osteomyelitis right second toe  postoperative diagnosis...|\n",
            "|           Surgery|surgery, blood loss anemia, diverticulosis coli, internal hemorrhoids, poor prep, colon...|preoperative diagnosis blood loss anemia  postoperative diagnoses 1 diverticulosis coli...|\n",
            "|           Surgery|surgery, abdomen, bovie cautery, endotracheal anesthesia, laparoscopic cholecystectomy,...|preoperative diagnosis chronic cholecystitis  postoperative diagnosis chronic cholecyst...|\n",
            "|           Surgery|surgery, dentigerous, wisdom tooth, extraction, bone impacted tooth, nasal endotracheal...|preoperative diagnosis dentigerous cyst left mandible associated with full bone impacte...|\n",
            "|           Surgery|surgery, aortic stenosis, vvir permanent pacemaker, permanent pacemaker insertion, cong...|procedure performed insertion of a vvir permanent pacemaker  complications none  estima...|\n",
            "+------------------+------------------------------------------------------------------------------------------+------------------------------------------------------------------------------------------+\n",
            "only showing top 20 rows\n",
            "\n"
          ]
        },
        {
          "output_type": "execute_result",
          "data": {
            "text/plain": [
              "1000000"
            ]
          },
          "metadata": {},
          "execution_count": 33
        }
      ]
    },
    {
      "cell_type": "markdown",
      "source": [
        "`Pandas - Menghitung angka dan menghapusnya`"
      ],
      "metadata": {
        "id": "_Wl1vNGCAcUC"
      }
    },
    {
      "cell_type": "code",
      "source": [
        "%%time\n",
        "pandas['text_prep'] = pandas['text']\n",
        "for i in range(10):\n",
        "    pandas['text_prep'] = pandas.text_prep.replace(str(i), \"\")\n",
        "    pandas['count_'+str(i)] = pandas.text.str.len() - pandas.text_prep.str.len()"
      ],
      "metadata": {
        "colab": {
          "base_uri": "https://localhost:8080/"
        },
        "id": "0uQV_u9DAZK7",
        "outputId": "230457b7-2294-4ebb-ea38-d01aa21c3a43"
      },
      "execution_count": 32,
      "outputs": [
        {
          "output_type": "stream",
          "name": "stdout",
          "text": [
            "CPU times: user 9.44 s, sys: 568 ms, total: 10 s\n",
            "Wall time: 10.3 s\n"
          ]
        }
      ]
    },
    {
      "cell_type": "markdown",
      "source": [
        "`SparkSQL - Menghitung angka dan menghapusnya`"
      ],
      "metadata": {
        "id": "Z87NLWkpA3Rb"
      }
    },
    {
      "cell_type": "code",
      "source": [
        "%%time\n",
        "sparkdata = sparkdata.withColumn('text_prep', sparkdata.text)\n",
        "for i in range(10):\n",
        "    sparkdata = sparkdata.withColumn('text_prep', F.regexp_replace('text_prep',str(i),\"\"))\n",
        "    sparkdata = sparkdata.withColumn('count_'+str(i), F.length(\"text\") - F.length(\"text_prep\"))"
      ],
      "metadata": {
        "colab": {
          "base_uri": "https://localhost:8080/"
        },
        "id": "EgMXPDtUA6YX",
        "outputId": "9ede6d00-9cdc-4610-b2e4-bbd1022f6d8b"
      },
      "execution_count": 34,
      "outputs": [
        {
          "output_type": "stream",
          "name": "stdout",
          "text": [
            "CPU times: user 53.8 ms, sys: 6.69 ms, total: 60.5 ms\n",
            "Wall time: 1.3 s\n"
          ]
        }
      ]
    },
    {
      "cell_type": "markdown",
      "source": [
        "SparkSQL jauh lebih cepat dari pada pandas ketika memproses data yang besar"
      ],
      "metadata": {
        "id": "t0Rk7HRaHvcI"
      }
    }
  ]
}