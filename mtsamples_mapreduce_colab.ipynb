{
  "nbformat": 4,
  "nbformat_minor": 0,
  "metadata": {
    "colab": {
      "name": "mtsamples_mapreduce_colab.ipynb",
      "provenance": [],
      "collapsed_sections": []
    },
    "kernelspec": {
      "name": "python3",
      "display_name": "Python 3"
    },
    "language_info": {
      "name": "python"
    }
  },
  "cells": [
    {
      "cell_type": "code",
      "source": [
        "# Clone git to get the data\n",
        "!git clone https://github.com/rasyidpurnama/abd2022"
      ],
      "metadata": {
        "colab": {
          "base_uri": "https://localhost:8080/"
        },
        "id": "wbhSPnlLp6rp",
        "outputId": "e3c5703c-29be-4663-ea23-d36395e3de4b"
      },
      "execution_count": 1,
      "outputs": [
        {
          "output_type": "stream",
          "name": "stdout",
          "text": [
            "Cloning into 'abd2022'...\n",
            "remote: Enumerating objects: 13, done.\u001b[K\n",
            "remote: Counting objects: 100% (13/13), done.\u001b[K\n",
            "remote: Compressing objects: 100% (11/11), done.\u001b[K\n",
            "remote: Total 13 (delta 2), reused 3 (delta 0), pack-reused 0\u001b[K\n",
            "Unpacking objects: 100% (13/13), done.\n"
          ]
        }
      ]
    },
    {
      "cell_type": "code",
      "source": [
        "cd abd2022"
      ],
      "metadata": {
        "colab": {
          "base_uri": "https://localhost:8080/"
        },
        "id": "A2uKZJzWqCZx",
        "outputId": "11621328-4ad0-4cb1-cd6c-bf901d2153e9"
      },
      "execution_count": 2,
      "outputs": [
        {
          "output_type": "stream",
          "name": "stdout",
          "text": [
            "/content/abd2022\n"
          ]
        }
      ]
    },
    {
      "cell_type": "code",
      "execution_count": 6,
      "metadata": {
        "id": "pN7C0EvcHDhU"
      },
      "outputs": [],
      "source": [
        "# Importing packages \n",
        "import numpy as np\n",
        "import pandas as pd\n",
        "from functools import reduce"
      ]
    },
    {
      "cell_type": "code",
      "source": [
        "# Read the data\n",
        "df = pd.read_csv(\"mtsamples_20220222.csv\").drop_duplicates().dropna().reset_index(drop=True)\n",
        "df.head()"
      ],
      "metadata": {
        "colab": {
          "base_uri": "https://localhost:8080/",
          "height": 206
        },
        "id": "j8ke1ky5HgP_",
        "outputId": "4459b31b-e2fa-4587-c134-8b89adf6c8d7"
      },
      "execution_count": 131,
      "outputs": [
        {
          "output_type": "execute_result",
          "data": {
            "text/plain": [
              "     medical_speciality                 sample_name  \\\n",
              "0  Allergy / Immunology           Allergic Rhinitis   \n",
              "1  Allergy / Immunology  Allergy Evaluation Consult   \n",
              "2  Allergy / Immunology      Asthma in a 5-year-old   \n",
              "3  Allergy / Immunology           Chronic Sinusitis   \n",
              "4  Allergy / Immunology     Evaluation of Allergies   \n",
              "\n",
              "                                         description  \\\n",
              "0  A 23-year-old white female presents with compl...   \n",
              "1  Acute allergic reaction, etiology uncertain, h...   \n",
              "2   Mother states he has been wheezing and coughing.   \n",
              "3  Patient having severe sinusitis about two to t...   \n",
              "4  Chronic glossitis, xerostomia, probable enviro...   \n",
              "\n",
              "                                       transcription  \\\n",
              "0  SUBJECTIVE: This 23-year-old white female pres...   \n",
              "1  HISTORY: A 34-year-old male presents today sel...   \n",
              "2  CHIEF COMPLAINT: This 5-year-old male presents...   \n",
              "3  HISTORY: I had the pleasure of meeting and eva...   \n",
              "4  HISTORY: A 55-year-old female presents self-re...   \n",
              "\n",
              "                                            keywords  \n",
              "0  allergy / immunology, allergic rhinitis, aller...  \n",
              "1  allergy / immunology, keflex, acute allergic r...  \n",
              "2  allergy / immunology, breathing treatment, air...  \n",
              "3  allergy / immunology, nasal congestion, facial...  \n",
              "4  allergy / immunology, chronic glossitis, xeros...  "
            ],
            "text/html": [
              "\n",
              "  <div id=\"df-0840e0fb-7b57-4f59-8ad3-77704c1ea1c0\">\n",
              "    <div class=\"colab-df-container\">\n",
              "      <div>\n",
              "<style scoped>\n",
              "    .dataframe tbody tr th:only-of-type {\n",
              "        vertical-align: middle;\n",
              "    }\n",
              "\n",
              "    .dataframe tbody tr th {\n",
              "        vertical-align: top;\n",
              "    }\n",
              "\n",
              "    .dataframe thead th {\n",
              "        text-align: right;\n",
              "    }\n",
              "</style>\n",
              "<table border=\"1\" class=\"dataframe\">\n",
              "  <thead>\n",
              "    <tr style=\"text-align: right;\">\n",
              "      <th></th>\n",
              "      <th>medical_speciality</th>\n",
              "      <th>sample_name</th>\n",
              "      <th>description</th>\n",
              "      <th>transcription</th>\n",
              "      <th>keywords</th>\n",
              "    </tr>\n",
              "  </thead>\n",
              "  <tbody>\n",
              "    <tr>\n",
              "      <th>0</th>\n",
              "      <td>Allergy / Immunology</td>\n",
              "      <td>Allergic Rhinitis</td>\n",
              "      <td>A 23-year-old white female presents with compl...</td>\n",
              "      <td>SUBJECTIVE: This 23-year-old white female pres...</td>\n",
              "      <td>allergy / immunology, allergic rhinitis, aller...</td>\n",
              "    </tr>\n",
              "    <tr>\n",
              "      <th>1</th>\n",
              "      <td>Allergy / Immunology</td>\n",
              "      <td>Allergy Evaluation Consult</td>\n",
              "      <td>Acute allergic reaction, etiology uncertain, h...</td>\n",
              "      <td>HISTORY: A 34-year-old male presents today sel...</td>\n",
              "      <td>allergy / immunology, keflex, acute allergic r...</td>\n",
              "    </tr>\n",
              "    <tr>\n",
              "      <th>2</th>\n",
              "      <td>Allergy / Immunology</td>\n",
              "      <td>Asthma in a 5-year-old</td>\n",
              "      <td>Mother states he has been wheezing and coughing.</td>\n",
              "      <td>CHIEF COMPLAINT: This 5-year-old male presents...</td>\n",
              "      <td>allergy / immunology, breathing treatment, air...</td>\n",
              "    </tr>\n",
              "    <tr>\n",
              "      <th>3</th>\n",
              "      <td>Allergy / Immunology</td>\n",
              "      <td>Chronic Sinusitis</td>\n",
              "      <td>Patient having severe sinusitis about two to t...</td>\n",
              "      <td>HISTORY: I had the pleasure of meeting and eva...</td>\n",
              "      <td>allergy / immunology, nasal congestion, facial...</td>\n",
              "    </tr>\n",
              "    <tr>\n",
              "      <th>4</th>\n",
              "      <td>Allergy / Immunology</td>\n",
              "      <td>Evaluation of Allergies</td>\n",
              "      <td>Chronic glossitis, xerostomia, probable enviro...</td>\n",
              "      <td>HISTORY: A 55-year-old female presents self-re...</td>\n",
              "      <td>allergy / immunology, chronic glossitis, xeros...</td>\n",
              "    </tr>\n",
              "  </tbody>\n",
              "</table>\n",
              "</div>\n",
              "      <button class=\"colab-df-convert\" onclick=\"convertToInteractive('df-0840e0fb-7b57-4f59-8ad3-77704c1ea1c0')\"\n",
              "              title=\"Convert this dataframe to an interactive table.\"\n",
              "              style=\"display:none;\">\n",
              "        \n",
              "  <svg xmlns=\"http://www.w3.org/2000/svg\" height=\"24px\"viewBox=\"0 0 24 24\"\n",
              "       width=\"24px\">\n",
              "    <path d=\"M0 0h24v24H0V0z\" fill=\"none\"/>\n",
              "    <path d=\"M18.56 5.44l.94 2.06.94-2.06 2.06-.94-2.06-.94-.94-2.06-.94 2.06-2.06.94zm-11 1L8.5 8.5l.94-2.06 2.06-.94-2.06-.94L8.5 2.5l-.94 2.06-2.06.94zm10 10l.94 2.06.94-2.06 2.06-.94-2.06-.94-.94-2.06-.94 2.06-2.06.94z\"/><path d=\"M17.41 7.96l-1.37-1.37c-.4-.4-.92-.59-1.43-.59-.52 0-1.04.2-1.43.59L10.3 9.45l-7.72 7.72c-.78.78-.78 2.05 0 2.83L4 21.41c.39.39.9.59 1.41.59.51 0 1.02-.2 1.41-.59l7.78-7.78 2.81-2.81c.8-.78.8-2.07 0-2.86zM5.41 20L4 18.59l7.72-7.72 1.47 1.35L5.41 20z\"/>\n",
              "  </svg>\n",
              "      </button>\n",
              "      \n",
              "  <style>\n",
              "    .colab-df-container {\n",
              "      display:flex;\n",
              "      flex-wrap:wrap;\n",
              "      gap: 12px;\n",
              "    }\n",
              "\n",
              "    .colab-df-convert {\n",
              "      background-color: #E8F0FE;\n",
              "      border: none;\n",
              "      border-radius: 50%;\n",
              "      cursor: pointer;\n",
              "      display: none;\n",
              "      fill: #1967D2;\n",
              "      height: 32px;\n",
              "      padding: 0 0 0 0;\n",
              "      width: 32px;\n",
              "    }\n",
              "\n",
              "    .colab-df-convert:hover {\n",
              "      background-color: #E2EBFA;\n",
              "      box-shadow: 0px 1px 2px rgba(60, 64, 67, 0.3), 0px 1px 3px 1px rgba(60, 64, 67, 0.15);\n",
              "      fill: #174EA6;\n",
              "    }\n",
              "\n",
              "    [theme=dark] .colab-df-convert {\n",
              "      background-color: #3B4455;\n",
              "      fill: #D2E3FC;\n",
              "    }\n",
              "\n",
              "    [theme=dark] .colab-df-convert:hover {\n",
              "      background-color: #434B5C;\n",
              "      box-shadow: 0px 1px 3px 1px rgba(0, 0, 0, 0.15);\n",
              "      filter: drop-shadow(0px 1px 2px rgba(0, 0, 0, 0.3));\n",
              "      fill: #FFFFFF;\n",
              "    }\n",
              "  </style>\n",
              "\n",
              "      <script>\n",
              "        const buttonEl =\n",
              "          document.querySelector('#df-0840e0fb-7b57-4f59-8ad3-77704c1ea1c0 button.colab-df-convert');\n",
              "        buttonEl.style.display =\n",
              "          google.colab.kernel.accessAllowed ? 'block' : 'none';\n",
              "\n",
              "        async function convertToInteractive(key) {\n",
              "          const element = document.querySelector('#df-0840e0fb-7b57-4f59-8ad3-77704c1ea1c0');\n",
              "          const dataTable =\n",
              "            await google.colab.kernel.invokeFunction('convertToInteractive',\n",
              "                                                     [key], {});\n",
              "          if (!dataTable) return;\n",
              "\n",
              "          const docLinkHtml = 'Like what you see? Visit the ' +\n",
              "            '<a target=\"_blank\" href=https://colab.research.google.com/notebooks/data_table.ipynb>data table notebook</a>'\n",
              "            + ' to learn more about interactive tables.';\n",
              "          element.innerHTML = '';\n",
              "          dataTable['output_type'] = 'display_data';\n",
              "          await google.colab.output.renderOutput(dataTable, element);\n",
              "          const docLink = document.createElement('div');\n",
              "          docLink.innerHTML = docLinkHtml;\n",
              "          element.appendChild(docLink);\n",
              "        }\n",
              "      </script>\n",
              "    </div>\n",
              "  </div>\n",
              "  "
            ]
          },
          "metadata": {},
          "execution_count": 131
        }
      ]
    },
    {
      "cell_type": "code",
      "source": [
        "# Create comparison to find the maximum of keywords existance in the transcription\n",
        "# example: in row 3 sinusitis is the maximum existance in the transcription\n",
        "\n",
        "\n",
        "# Function to count existance of keyword in the transcription (formula = len(before)-len(after))\n",
        "\n",
        "# [LOOPING FUNCTION]\n",
        "def looping_wordcount(keyword, transcript):\n",
        "    return (len(transcript)-len(transcript.replace(keyword,\"\")))//(len(keyword)+0.0001)\n",
        "\n",
        "print(\"=== Given List of Keywords ===\")\n",
        "list_of_transcription = df.transcription.tolist()\n",
        "list_of_keywords = df.keywords.tolist()\n",
        "print(\"len of list_of_transcription:\",len(list_of_transcription))\n",
        "print(\"len of list_of_keywords:\",len(list_of_keywords))\n",
        "print()"
      ],
      "metadata": {
        "colab": {
          "base_uri": "https://localhost:8080/"
        },
        "id": "M-aKtE2-qdcY",
        "outputId": "f6a5fa65-c40f-4894-95d6-db8ea7825c3f"
      },
      "execution_count": 433,
      "outputs": [
        {
          "output_type": "stream",
          "name": "stdout",
          "text": [
            "=== Given List of Keywords ===\n",
            "len of list_of_transcription: 4997\n",
            "len of list_of_keywords: 4997\n",
            "\n"
          ]
        }
      ]
    },
    {
      "cell_type": "code",
      "source": [
        "%%time\n",
        "print(\"=== Using For Loop ===\")\n",
        "list_of_most_number_of_keywords = []\n",
        "for transcript, keywords in zip(list_of_transcription,list_of_keywords):\n",
        "    count_list = []\n",
        "    for keyword in keywords.split(', '):\n",
        "        count_list.append(looping_wordcount(keyword, transcript))\n",
        "    counter = max(count_list)\n",
        "    list_of_most_number_of_keywords.append(counter)\n",
        "df['looping_count'] = list_of_most_number_of_keywords"
      ],
      "metadata": {
        "colab": {
          "base_uri": "https://localhost:8080/"
        },
        "id": "CRTTMuMW2uue",
        "outputId": "9ba26b4f-4d1a-4915-9818-c6ced9f359b9"
      },
      "execution_count": 440,
      "outputs": [
        {
          "output_type": "stream",
          "name": "stdout",
          "text": [
            "=== Using For Loop ===\n",
            "CPU times: user 508 ms, sys: 1.8 ms, total: 510 ms\n",
            "Wall time: 615 ms\n"
          ]
        }
      ]
    },
    {
      "cell_type": "code",
      "source": [
        "%%time\n",
        "print(\"=== Using Map Reduce ===\")\n",
        "map_split = lambda doc,key: (len(doc)-len(doc.replace(key,\"\")))//(len(key)+0.0001)\n",
        "map_collect = lambda i: map(map_split, [list_of_transcription[i] for k in range(len(list_of_keywords[i].split(\", \")))], list_of_keywords[i].split(\", \"))\n",
        "map_collects = map(map_collect, df.index)\n",
        "reduce_find_max = lambda a,b: max(a,b)\n",
        "map_get_all_most = lambda x: reduce(reduce_find_max, x)\n",
        "map_most_keywords = map(map_get_all_most, map_collects)\n",
        "df['mapreduce_count'] = list(map_most_keywords)"
      ],
      "metadata": {
        "colab": {
          "base_uri": "https://localhost:8080/"
        },
        "id": "EzU2G-Nw29hl",
        "outputId": "e95ae886-c09d-4875-c363-8e0de3524807"
      },
      "execution_count": 441,
      "outputs": [
        {
          "output_type": "stream",
          "name": "stdout",
          "text": [
            "=== Using Map Reduce ===\n",
            "CPU times: user 489 ms, sys: 926 µs, total: 490 ms\n",
            "Wall time: 561 ms\n"
          ]
        }
      ]
    },
    {
      "cell_type": "code",
      "source": [
        "%%time\n",
        "print(\"=== Using Numpy Pandas ===\")\n",
        "df['numpy_count'] = df.apply(lambda x: max([looping_wordcount(keyword,x['transcription']) for keyword in x['keywords'].split(', ')]), axis=1)"
      ],
      "metadata": {
        "colab": {
          "base_uri": "https://localhost:8080/"
        },
        "id": "CU-hSQ2tRhtH",
        "outputId": "21bfe3cb-b4bf-469f-840e-c7da05f41754"
      },
      "execution_count": 442,
      "outputs": [
        {
          "output_type": "stream",
          "name": "stdout",
          "text": [
            "=== Using Numpy Pandas ===\n",
            "CPU times: user 799 ms, sys: 1.87 ms, total: 800 ms\n",
            "Wall time: 805 ms\n"
          ]
        }
      ]
    },
    {
      "cell_type": "code",
      "source": [
        "df.head()"
      ],
      "metadata": {
        "colab": {
          "base_uri": "https://localhost:8080/",
          "height": 337
        },
        "id": "IZ9U1n4FQIIH",
        "outputId": "feff6754-081e-4353-c2b1-3958837fd57b"
      },
      "execution_count": 432,
      "outputs": [
        {
          "output_type": "execute_result",
          "data": {
            "text/plain": [
              "     medical_speciality                 sample_name  \\\n",
              "0  Allergy / Immunology           Allergic Rhinitis   \n",
              "1  Allergy / Immunology  Allergy Evaluation Consult   \n",
              "2  Allergy / Immunology      Asthma in a 5-year-old   \n",
              "3  Allergy / Immunology           Chronic Sinusitis   \n",
              "4  Allergy / Immunology     Evaluation of Allergies   \n",
              "\n",
              "                                         description  \\\n",
              "0  A 23-year-old white female presents with compl...   \n",
              "1  Acute allergic reaction, etiology uncertain, h...   \n",
              "2   Mother states he has been wheezing and coughing.   \n",
              "3  Patient having severe sinusitis about two to t...   \n",
              "4  Chronic glossitis, xerostomia, probable enviro...   \n",
              "\n",
              "                                       transcription  \\\n",
              "0  SUBJECTIVE: This 23-year-old white female pres...   \n",
              "1  HISTORY: A 34-year-old male presents today sel...   \n",
              "2  CHIEF COMPLAINT: This 5-year-old male presents...   \n",
              "3  HISTORY: I had the pleasure of meeting and eva...   \n",
              "4  HISTORY: A 55-year-old female presents self-re...   \n",
              "\n",
              "                                            keywords  looping_count  \\\n",
              "0  allergy / immunology, allergic rhinitis, aller...            2.0   \n",
              "1  allergy / immunology, keflex, acute allergic r...            5.0   \n",
              "2  allergy / immunology, breathing treatment, air...            1.0   \n",
              "3  allergy / immunology, nasal congestion, facial...           14.0   \n",
              "4  allergy / immunology, chronic glossitis, xeros...            2.0   \n",
              "\n",
              "   mapreduce_count  numpy_count  \n",
              "0              2.0          2.0  \n",
              "1              5.0          5.0  \n",
              "2              1.0          1.0  \n",
              "3             14.0         14.0  \n",
              "4              2.0          2.0  "
            ],
            "text/html": [
              "\n",
              "  <div id=\"df-ed58b6da-2435-49c2-87c6-89c9e566726b\">\n",
              "    <div class=\"colab-df-container\">\n",
              "      <div>\n",
              "<style scoped>\n",
              "    .dataframe tbody tr th:only-of-type {\n",
              "        vertical-align: middle;\n",
              "    }\n",
              "\n",
              "    .dataframe tbody tr th {\n",
              "        vertical-align: top;\n",
              "    }\n",
              "\n",
              "    .dataframe thead th {\n",
              "        text-align: right;\n",
              "    }\n",
              "</style>\n",
              "<table border=\"1\" class=\"dataframe\">\n",
              "  <thead>\n",
              "    <tr style=\"text-align: right;\">\n",
              "      <th></th>\n",
              "      <th>medical_speciality</th>\n",
              "      <th>sample_name</th>\n",
              "      <th>description</th>\n",
              "      <th>transcription</th>\n",
              "      <th>keywords</th>\n",
              "      <th>looping_count</th>\n",
              "      <th>mapreduce_count</th>\n",
              "      <th>numpy_count</th>\n",
              "    </tr>\n",
              "  </thead>\n",
              "  <tbody>\n",
              "    <tr>\n",
              "      <th>0</th>\n",
              "      <td>Allergy / Immunology</td>\n",
              "      <td>Allergic Rhinitis</td>\n",
              "      <td>A 23-year-old white female presents with compl...</td>\n",
              "      <td>SUBJECTIVE: This 23-year-old white female pres...</td>\n",
              "      <td>allergy / immunology, allergic rhinitis, aller...</td>\n",
              "      <td>2.0</td>\n",
              "      <td>2.0</td>\n",
              "      <td>2.0</td>\n",
              "    </tr>\n",
              "    <tr>\n",
              "      <th>1</th>\n",
              "      <td>Allergy / Immunology</td>\n",
              "      <td>Allergy Evaluation Consult</td>\n",
              "      <td>Acute allergic reaction, etiology uncertain, h...</td>\n",
              "      <td>HISTORY: A 34-year-old male presents today sel...</td>\n",
              "      <td>allergy / immunology, keflex, acute allergic r...</td>\n",
              "      <td>5.0</td>\n",
              "      <td>5.0</td>\n",
              "      <td>5.0</td>\n",
              "    </tr>\n",
              "    <tr>\n",
              "      <th>2</th>\n",
              "      <td>Allergy / Immunology</td>\n",
              "      <td>Asthma in a 5-year-old</td>\n",
              "      <td>Mother states he has been wheezing and coughing.</td>\n",
              "      <td>CHIEF COMPLAINT: This 5-year-old male presents...</td>\n",
              "      <td>allergy / immunology, breathing treatment, air...</td>\n",
              "      <td>1.0</td>\n",
              "      <td>1.0</td>\n",
              "      <td>1.0</td>\n",
              "    </tr>\n",
              "    <tr>\n",
              "      <th>3</th>\n",
              "      <td>Allergy / Immunology</td>\n",
              "      <td>Chronic Sinusitis</td>\n",
              "      <td>Patient having severe sinusitis about two to t...</td>\n",
              "      <td>HISTORY: I had the pleasure of meeting and eva...</td>\n",
              "      <td>allergy / immunology, nasal congestion, facial...</td>\n",
              "      <td>14.0</td>\n",
              "      <td>14.0</td>\n",
              "      <td>14.0</td>\n",
              "    </tr>\n",
              "    <tr>\n",
              "      <th>4</th>\n",
              "      <td>Allergy / Immunology</td>\n",
              "      <td>Evaluation of Allergies</td>\n",
              "      <td>Chronic glossitis, xerostomia, probable enviro...</td>\n",
              "      <td>HISTORY: A 55-year-old female presents self-re...</td>\n",
              "      <td>allergy / immunology, chronic glossitis, xeros...</td>\n",
              "      <td>2.0</td>\n",
              "      <td>2.0</td>\n",
              "      <td>2.0</td>\n",
              "    </tr>\n",
              "  </tbody>\n",
              "</table>\n",
              "</div>\n",
              "      <button class=\"colab-df-convert\" onclick=\"convertToInteractive('df-ed58b6da-2435-49c2-87c6-89c9e566726b')\"\n",
              "              title=\"Convert this dataframe to an interactive table.\"\n",
              "              style=\"display:none;\">\n",
              "        \n",
              "  <svg xmlns=\"http://www.w3.org/2000/svg\" height=\"24px\"viewBox=\"0 0 24 24\"\n",
              "       width=\"24px\">\n",
              "    <path d=\"M0 0h24v24H0V0z\" fill=\"none\"/>\n",
              "    <path d=\"M18.56 5.44l.94 2.06.94-2.06 2.06-.94-2.06-.94-.94-2.06-.94 2.06-2.06.94zm-11 1L8.5 8.5l.94-2.06 2.06-.94-2.06-.94L8.5 2.5l-.94 2.06-2.06.94zm10 10l.94 2.06.94-2.06 2.06-.94-2.06-.94-.94-2.06-.94 2.06-2.06.94z\"/><path d=\"M17.41 7.96l-1.37-1.37c-.4-.4-.92-.59-1.43-.59-.52 0-1.04.2-1.43.59L10.3 9.45l-7.72 7.72c-.78.78-.78 2.05 0 2.83L4 21.41c.39.39.9.59 1.41.59.51 0 1.02-.2 1.41-.59l7.78-7.78 2.81-2.81c.8-.78.8-2.07 0-2.86zM5.41 20L4 18.59l7.72-7.72 1.47 1.35L5.41 20z\"/>\n",
              "  </svg>\n",
              "      </button>\n",
              "      \n",
              "  <style>\n",
              "    .colab-df-container {\n",
              "      display:flex;\n",
              "      flex-wrap:wrap;\n",
              "      gap: 12px;\n",
              "    }\n",
              "\n",
              "    .colab-df-convert {\n",
              "      background-color: #E8F0FE;\n",
              "      border: none;\n",
              "      border-radius: 50%;\n",
              "      cursor: pointer;\n",
              "      display: none;\n",
              "      fill: #1967D2;\n",
              "      height: 32px;\n",
              "      padding: 0 0 0 0;\n",
              "      width: 32px;\n",
              "    }\n",
              "\n",
              "    .colab-df-convert:hover {\n",
              "      background-color: #E2EBFA;\n",
              "      box-shadow: 0px 1px 2px rgba(60, 64, 67, 0.3), 0px 1px 3px 1px rgba(60, 64, 67, 0.15);\n",
              "      fill: #174EA6;\n",
              "    }\n",
              "\n",
              "    [theme=dark] .colab-df-convert {\n",
              "      background-color: #3B4455;\n",
              "      fill: #D2E3FC;\n",
              "    }\n",
              "\n",
              "    [theme=dark] .colab-df-convert:hover {\n",
              "      background-color: #434B5C;\n",
              "      box-shadow: 0px 1px 3px 1px rgba(0, 0, 0, 0.15);\n",
              "      filter: drop-shadow(0px 1px 2px rgba(0, 0, 0, 0.3));\n",
              "      fill: #FFFFFF;\n",
              "    }\n",
              "  </style>\n",
              "\n",
              "      <script>\n",
              "        const buttonEl =\n",
              "          document.querySelector('#df-ed58b6da-2435-49c2-87c6-89c9e566726b button.colab-df-convert');\n",
              "        buttonEl.style.display =\n",
              "          google.colab.kernel.accessAllowed ? 'block' : 'none';\n",
              "\n",
              "        async function convertToInteractive(key) {\n",
              "          const element = document.querySelector('#df-ed58b6da-2435-49c2-87c6-89c9e566726b');\n",
              "          const dataTable =\n",
              "            await google.colab.kernel.invokeFunction('convertToInteractive',\n",
              "                                                     [key], {});\n",
              "          if (!dataTable) return;\n",
              "\n",
              "          const docLinkHtml = 'Like what you see? Visit the ' +\n",
              "            '<a target=\"_blank\" href=https://colab.research.google.com/notebooks/data_table.ipynb>data table notebook</a>'\n",
              "            + ' to learn more about interactive tables.';\n",
              "          element.innerHTML = '';\n",
              "          dataTable['output_type'] = 'display_data';\n",
              "          await google.colab.output.renderOutput(dataTable, element);\n",
              "          const docLink = document.createElement('div');\n",
              "          docLink.innerHTML = docLinkHtml;\n",
              "          element.appendChild(docLink);\n",
              "        }\n",
              "      </script>\n",
              "    </div>\n",
              "  </div>\n",
              "  "
            ]
          },
          "metadata": {},
          "execution_count": 432
        }
      ]
    },
    {
      "cell_type": "code",
      "source": [
        "# jumlah baris x 20\n",
        "df_big = pd.concat([df]*20).reset_index(drop=True)"
      ],
      "metadata": {
        "id": "ZIfhJ8n0z3fN"
      },
      "execution_count": 444,
      "outputs": []
    },
    {
      "cell_type": "code",
      "source": [
        "print(\"=== Given List of Keywords ===\")\n",
        "list_of_transcription = df_big.transcription.tolist()\n",
        "list_of_keywords = df_big.keywords.tolist()\n",
        "print(\"len of list_of_transcription:\",len(list_of_transcription))\n",
        "print(\"len of list_of_keywords:\",len(list_of_keywords))\n",
        "print()"
      ],
      "metadata": {
        "colab": {
          "base_uri": "https://localhost:8080/"
        },
        "id": "cQ3ApQnU0Blt",
        "outputId": "8b303483-446e-4fde-e270-0a2a61ba25f0"
      },
      "execution_count": 446,
      "outputs": [
        {
          "output_type": "stream",
          "name": "stdout",
          "text": [
            "=== Given List of Keywords ===\n",
            "len of list_of_transcription: 99940\n",
            "len of list_of_keywords: 99940\n",
            "\n"
          ]
        }
      ]
    },
    {
      "cell_type": "code",
      "source": [
        "%%time\n",
        "print(\"=== Using For Loop ===\")\n",
        "list_of_most_number_of_keywords = []\n",
        "for transcript, keywords in zip(list_of_transcription,list_of_keywords):\n",
        "    count_list = []\n",
        "    for keyword in keywords.split(', '):\n",
        "        count_list.append(looping_wordcount(keyword, transcript))\n",
        "    counter = max(count_list)\n",
        "    list_of_most_number_of_keywords.append(counter)\n",
        "df_big['looping_count'] = list_of_most_number_of_keywords"
      ],
      "metadata": {
        "colab": {
          "base_uri": "https://localhost:8080/"
        },
        "id": "s__PtqnD0PQ1",
        "outputId": "167c0dd3-dc3f-4909-a62f-6544c8299538"
      },
      "execution_count": 459,
      "outputs": [
        {
          "output_type": "stream",
          "name": "stdout",
          "text": [
            "=== Using For Loop ===\n",
            "CPU times: user 7.69 s, sys: 32.4 ms, total: 7.72 s\n",
            "Wall time: 7.76 s\n"
          ]
        }
      ]
    },
    {
      "cell_type": "code",
      "source": [
        "%%time\n",
        "print(\"=== Using Map Reduce ===\")\n",
        "map_split = lambda doc,key: (len(doc)-len(doc.replace(key,\"\")))//(len(key)+0.0001)\n",
        "map_collect = lambda i: map(map_split, [list_of_transcription[i] for k in range(len(list_of_keywords[i].split(\", \")))], list_of_keywords[i].split(\", \"))\n",
        "map_collects = map(map_collect, df_big.index)\n",
        "reduce_find_max = lambda a,b: max(a,b)\n",
        "map_get_all_most = lambda x: reduce(reduce_find_max, x)\n",
        "map_most_keywords = map(map_get_all_most, map_collects)\n",
        "df_big['mapreduce_count'] = list(map_most_keywords)"
      ],
      "metadata": {
        "colab": {
          "base_uri": "https://localhost:8080/"
        },
        "id": "3ExykG2g0R4l",
        "outputId": "7486a8e6-9e6c-47aa-909d-87a13e3be276"
      },
      "execution_count": 460,
      "outputs": [
        {
          "output_type": "stream",
          "name": "stdout",
          "text": [
            "=== Using Map Reduce ===\n",
            "CPU times: user 8.18 s, sys: 44.6 ms, total: 8.23 s\n",
            "Wall time: 8.31 s\n"
          ]
        }
      ]
    },
    {
      "cell_type": "code",
      "source": [
        "%%time\n",
        "print(\"=== Using Numpy Pandas ===\")\n",
        "df_big['numpy_count'] = df_big.apply(lambda x: max([looping_wordcount(keyword,x['transcription']) for keyword in x['keywords'].split(', ')]), axis=1)"
      ],
      "metadata": {
        "colab": {
          "base_uri": "https://localhost:8080/"
        },
        "id": "2JtcJnJb0ZPd",
        "outputId": "352b620b-7067-4cac-c97d-71c7197c0935"
      },
      "execution_count": 457,
      "outputs": [
        {
          "output_type": "stream",
          "name": "stdout",
          "text": [
            "=== Using Numpy Pandas ===\n",
            "CPU times: user 15.3 s, sys: 86.5 ms, total: 15.4 s\n",
            "Wall time: 15.5 s\n"
          ]
        }
      ]
    },
    {
      "cell_type": "code",
      "source": [
        "df_big.head()"
      ],
      "metadata": {
        "colab": {
          "base_uri": "https://localhost:8080/",
          "height": 337
        },
        "id": "qCgiwFZ90evN",
        "outputId": "268e88ce-b9d6-45f1-9b2a-8d66a38789ce"
      },
      "execution_count": 458,
      "outputs": [
        {
          "output_type": "execute_result",
          "data": {
            "text/plain": [
              "     medical_speciality                 sample_name  \\\n",
              "0  Allergy / Immunology           Allergic Rhinitis   \n",
              "1  Allergy / Immunology  Allergy Evaluation Consult   \n",
              "2  Allergy / Immunology      Asthma in a 5-year-old   \n",
              "3  Allergy / Immunology           Chronic Sinusitis   \n",
              "4  Allergy / Immunology     Evaluation of Allergies   \n",
              "\n",
              "                                         description  \\\n",
              "0  A 23-year-old white female presents with compl...   \n",
              "1  Acute allergic reaction, etiology uncertain, h...   \n",
              "2   Mother states he has been wheezing and coughing.   \n",
              "3  Patient having severe sinusitis about two to t...   \n",
              "4  Chronic glossitis, xerostomia, probable enviro...   \n",
              "\n",
              "                                       transcription  \\\n",
              "0  SUBJECTIVE: This 23-year-old white female pres...   \n",
              "1  HISTORY: A 34-year-old male presents today sel...   \n",
              "2  CHIEF COMPLAINT: This 5-year-old male presents...   \n",
              "3  HISTORY: I had the pleasure of meeting and eva...   \n",
              "4  HISTORY: A 55-year-old female presents self-re...   \n",
              "\n",
              "                                            keywords  looping_count  \\\n",
              "0  allergy / immunology, allergic rhinitis, aller...            2.0   \n",
              "1  allergy / immunology, keflex, acute allergic r...            5.0   \n",
              "2  allergy / immunology, breathing treatment, air...            1.0   \n",
              "3  allergy / immunology, nasal congestion, facial...           14.0   \n",
              "4  allergy / immunology, chronic glossitis, xeros...            2.0   \n",
              "\n",
              "   mapreduce_count  numpy_count  \n",
              "0              2.0          2.0  \n",
              "1              5.0          5.0  \n",
              "2              1.0          1.0  \n",
              "3             14.0         14.0  \n",
              "4              2.0          2.0  "
            ],
            "text/html": [
              "\n",
              "  <div id=\"df-89296d54-c1e0-4256-9d92-268b3e2cb108\">\n",
              "    <div class=\"colab-df-container\">\n",
              "      <div>\n",
              "<style scoped>\n",
              "    .dataframe tbody tr th:only-of-type {\n",
              "        vertical-align: middle;\n",
              "    }\n",
              "\n",
              "    .dataframe tbody tr th {\n",
              "        vertical-align: top;\n",
              "    }\n",
              "\n",
              "    .dataframe thead th {\n",
              "        text-align: right;\n",
              "    }\n",
              "</style>\n",
              "<table border=\"1\" class=\"dataframe\">\n",
              "  <thead>\n",
              "    <tr style=\"text-align: right;\">\n",
              "      <th></th>\n",
              "      <th>medical_speciality</th>\n",
              "      <th>sample_name</th>\n",
              "      <th>description</th>\n",
              "      <th>transcription</th>\n",
              "      <th>keywords</th>\n",
              "      <th>looping_count</th>\n",
              "      <th>mapreduce_count</th>\n",
              "      <th>numpy_count</th>\n",
              "    </tr>\n",
              "  </thead>\n",
              "  <tbody>\n",
              "    <tr>\n",
              "      <th>0</th>\n",
              "      <td>Allergy / Immunology</td>\n",
              "      <td>Allergic Rhinitis</td>\n",
              "      <td>A 23-year-old white female presents with compl...</td>\n",
              "      <td>SUBJECTIVE: This 23-year-old white female pres...</td>\n",
              "      <td>allergy / immunology, allergic rhinitis, aller...</td>\n",
              "      <td>2.0</td>\n",
              "      <td>2.0</td>\n",
              "      <td>2.0</td>\n",
              "    </tr>\n",
              "    <tr>\n",
              "      <th>1</th>\n",
              "      <td>Allergy / Immunology</td>\n",
              "      <td>Allergy Evaluation Consult</td>\n",
              "      <td>Acute allergic reaction, etiology uncertain, h...</td>\n",
              "      <td>HISTORY: A 34-year-old male presents today sel...</td>\n",
              "      <td>allergy / immunology, keflex, acute allergic r...</td>\n",
              "      <td>5.0</td>\n",
              "      <td>5.0</td>\n",
              "      <td>5.0</td>\n",
              "    </tr>\n",
              "    <tr>\n",
              "      <th>2</th>\n",
              "      <td>Allergy / Immunology</td>\n",
              "      <td>Asthma in a 5-year-old</td>\n",
              "      <td>Mother states he has been wheezing and coughing.</td>\n",
              "      <td>CHIEF COMPLAINT: This 5-year-old male presents...</td>\n",
              "      <td>allergy / immunology, breathing treatment, air...</td>\n",
              "      <td>1.0</td>\n",
              "      <td>1.0</td>\n",
              "      <td>1.0</td>\n",
              "    </tr>\n",
              "    <tr>\n",
              "      <th>3</th>\n",
              "      <td>Allergy / Immunology</td>\n",
              "      <td>Chronic Sinusitis</td>\n",
              "      <td>Patient having severe sinusitis about two to t...</td>\n",
              "      <td>HISTORY: I had the pleasure of meeting and eva...</td>\n",
              "      <td>allergy / immunology, nasal congestion, facial...</td>\n",
              "      <td>14.0</td>\n",
              "      <td>14.0</td>\n",
              "      <td>14.0</td>\n",
              "    </tr>\n",
              "    <tr>\n",
              "      <th>4</th>\n",
              "      <td>Allergy / Immunology</td>\n",
              "      <td>Evaluation of Allergies</td>\n",
              "      <td>Chronic glossitis, xerostomia, probable enviro...</td>\n",
              "      <td>HISTORY: A 55-year-old female presents self-re...</td>\n",
              "      <td>allergy / immunology, chronic glossitis, xeros...</td>\n",
              "      <td>2.0</td>\n",
              "      <td>2.0</td>\n",
              "      <td>2.0</td>\n",
              "    </tr>\n",
              "  </tbody>\n",
              "</table>\n",
              "</div>\n",
              "      <button class=\"colab-df-convert\" onclick=\"convertToInteractive('df-89296d54-c1e0-4256-9d92-268b3e2cb108')\"\n",
              "              title=\"Convert this dataframe to an interactive table.\"\n",
              "              style=\"display:none;\">\n",
              "        \n",
              "  <svg xmlns=\"http://www.w3.org/2000/svg\" height=\"24px\"viewBox=\"0 0 24 24\"\n",
              "       width=\"24px\">\n",
              "    <path d=\"M0 0h24v24H0V0z\" fill=\"none\"/>\n",
              "    <path d=\"M18.56 5.44l.94 2.06.94-2.06 2.06-.94-2.06-.94-.94-2.06-.94 2.06-2.06.94zm-11 1L8.5 8.5l.94-2.06 2.06-.94-2.06-.94L8.5 2.5l-.94 2.06-2.06.94zm10 10l.94 2.06.94-2.06 2.06-.94-2.06-.94-.94-2.06-.94 2.06-2.06.94z\"/><path d=\"M17.41 7.96l-1.37-1.37c-.4-.4-.92-.59-1.43-.59-.52 0-1.04.2-1.43.59L10.3 9.45l-7.72 7.72c-.78.78-.78 2.05 0 2.83L4 21.41c.39.39.9.59 1.41.59.51 0 1.02-.2 1.41-.59l7.78-7.78 2.81-2.81c.8-.78.8-2.07 0-2.86zM5.41 20L4 18.59l7.72-7.72 1.47 1.35L5.41 20z\"/>\n",
              "  </svg>\n",
              "      </button>\n",
              "      \n",
              "  <style>\n",
              "    .colab-df-container {\n",
              "      display:flex;\n",
              "      flex-wrap:wrap;\n",
              "      gap: 12px;\n",
              "    }\n",
              "\n",
              "    .colab-df-convert {\n",
              "      background-color: #E8F0FE;\n",
              "      border: none;\n",
              "      border-radius: 50%;\n",
              "      cursor: pointer;\n",
              "      display: none;\n",
              "      fill: #1967D2;\n",
              "      height: 32px;\n",
              "      padding: 0 0 0 0;\n",
              "      width: 32px;\n",
              "    }\n",
              "\n",
              "    .colab-df-convert:hover {\n",
              "      background-color: #E2EBFA;\n",
              "      box-shadow: 0px 1px 2px rgba(60, 64, 67, 0.3), 0px 1px 3px 1px rgba(60, 64, 67, 0.15);\n",
              "      fill: #174EA6;\n",
              "    }\n",
              "\n",
              "    [theme=dark] .colab-df-convert {\n",
              "      background-color: #3B4455;\n",
              "      fill: #D2E3FC;\n",
              "    }\n",
              "\n",
              "    [theme=dark] .colab-df-convert:hover {\n",
              "      background-color: #434B5C;\n",
              "      box-shadow: 0px 1px 3px 1px rgba(0, 0, 0, 0.15);\n",
              "      filter: drop-shadow(0px 1px 2px rgba(0, 0, 0, 0.3));\n",
              "      fill: #FFFFFF;\n",
              "    }\n",
              "  </style>\n",
              "\n",
              "      <script>\n",
              "        const buttonEl =\n",
              "          document.querySelector('#df-89296d54-c1e0-4256-9d92-268b3e2cb108 button.colab-df-convert');\n",
              "        buttonEl.style.display =\n",
              "          google.colab.kernel.accessAllowed ? 'block' : 'none';\n",
              "\n",
              "        async function convertToInteractive(key) {\n",
              "          const element = document.querySelector('#df-89296d54-c1e0-4256-9d92-268b3e2cb108');\n",
              "          const dataTable =\n",
              "            await google.colab.kernel.invokeFunction('convertToInteractive',\n",
              "                                                     [key], {});\n",
              "          if (!dataTable) return;\n",
              "\n",
              "          const docLinkHtml = 'Like what you see? Visit the ' +\n",
              "            '<a target=\"_blank\" href=https://colab.research.google.com/notebooks/data_table.ipynb>data table notebook</a>'\n",
              "            + ' to learn more about interactive tables.';\n",
              "          element.innerHTML = '';\n",
              "          dataTable['output_type'] = 'display_data';\n",
              "          await google.colab.output.renderOutput(dataTable, element);\n",
              "          const docLink = document.createElement('div');\n",
              "          docLink.innerHTML = docLinkHtml;\n",
              "          element.appendChild(docLink);\n",
              "        }\n",
              "      </script>\n",
              "    </div>\n",
              "  </div>\n",
              "  "
            ]
          },
          "metadata": {},
          "execution_count": 458
        }
      ]
    },
    {
      "cell_type": "code",
      "source": [
        "# jumlah data di kolom transcription x 20\n",
        "df_big['transcription'] = df_big['transcription']*20"
      ],
      "metadata": {
        "id": "YDIxgk3n0_Tt"
      },
      "execution_count": 461,
      "outputs": []
    },
    {
      "cell_type": "code",
      "source": [
        "print(\"=== Given List of Keywords ===\")\n",
        "list_of_transcription = df_big.transcription.tolist()\n",
        "list_of_keywords = df_big.keywords.tolist()\n",
        "print(\"len of list_of_transcription:\",len(list_of_transcription))\n",
        "print(\"len of list_of_keywords:\",len(list_of_keywords))\n",
        "print()"
      ],
      "metadata": {
        "colab": {
          "base_uri": "https://localhost:8080/"
        },
        "id": "BRqLojmn1JGH",
        "outputId": "27f841d3-bdbd-48db-e56c-66da1c868d2b"
      },
      "execution_count": 462,
      "outputs": [
        {
          "output_type": "stream",
          "name": "stdout",
          "text": [
            "=== Given List of Keywords ===\n",
            "len of list_of_transcription: 99940\n",
            "len of list_of_keywords: 99940\n",
            "\n"
          ]
        }
      ]
    },
    {
      "cell_type": "code",
      "source": [
        "%%time\n",
        "print(\"=== Using For Loop ===\")\n",
        "list_of_most_number_of_keywords = []\n",
        "for transcript, keywords in zip(list_of_transcription,list_of_keywords):\n",
        "    count_list = []\n",
        "    for keyword in keywords.split(', '):\n",
        "        count_list.append(looping_wordcount(keyword, transcript))\n",
        "    counter = max(count_list)\n",
        "    list_of_most_number_of_keywords.append(counter)\n",
        "df_big['looping_count'] = list_of_most_number_of_keywords"
      ],
      "metadata": {
        "colab": {
          "base_uri": "https://localhost:8080/"
        },
        "id": "HnfjUni_1NLt",
        "outputId": "9a622d51-6f5d-451f-f123-08e85349297a"
      },
      "execution_count": 466,
      "outputs": [
        {
          "output_type": "stream",
          "name": "stdout",
          "text": [
            "=== Using For Loop ===\n",
            "CPU times: user 1min 5s, sys: 1.28 s, total: 1min 6s\n",
            "Wall time: 1min 13s\n"
          ]
        }
      ]
    },
    {
      "cell_type": "code",
      "source": [
        "%%time\n",
        "print(\"=== Using Map Reduce ===\")\n",
        "map_split = lambda doc,key: (len(doc)-len(doc.replace(key,\"\")))//(len(key)+0.0001)\n",
        "map_collect = lambda i: map(map_split, [list_of_transcription[i] for k in range(len(list_of_keywords[i].split(\", \")))], list_of_keywords[i].split(\", \"))\n",
        "map_collects = map(map_collect, df_big.index)\n",
        "reduce_find_max = lambda a,b: max(a,b)\n",
        "map_get_all_most = lambda x: reduce(reduce_find_max, x)\n",
        "map_most_keywords = map(map_get_all_most, map_collects)\n",
        "df_big['mapreduce_count'] = list(map_most_keywords)"
      ],
      "metadata": {
        "colab": {
          "base_uri": "https://localhost:8080/"
        },
        "id": "SYsRsFI71QhV",
        "outputId": "c39779d8-83c2-452f-aca4-ad527e31c80b"
      },
      "execution_count": 467,
      "outputs": [
        {
          "output_type": "stream",
          "name": "stdout",
          "text": [
            "=== Using Map Reduce ===\n",
            "CPU times: user 1min 1s, sys: 545 ms, total: 1min 2s\n",
            "Wall time: 1min 2s\n"
          ]
        }
      ]
    },
    {
      "cell_type": "code",
      "source": [
        "%%time\n",
        "print(\"=== Using Numpy Pandas ===\")\n",
        "df_big['numpy_count'] = df_big.apply(lambda x: max([looping_wordcount(keyword,x['transcription']) for keyword in x['keywords'].split(', ')]), axis=1)"
      ],
      "metadata": {
        "colab": {
          "base_uri": "https://localhost:8080/"
        },
        "id": "3q_qQ9sr1Tt9",
        "outputId": "499f13f5-96c6-4c64-a025-8610ad0061f1"
      },
      "execution_count": 468,
      "outputs": [
        {
          "output_type": "stream",
          "name": "stdout",
          "text": [
            "=== Using Numpy Pandas ===\n",
            "CPU times: user 1min 12s, sys: 490 ms, total: 1min 13s\n",
            "Wall time: 1min 13s\n"
          ]
        }
      ]
    },
    {
      "cell_type": "markdown",
      "source": [
        "Kesimlpulannya, dengan menggunakan map reduce bisa menjadi lebih cepat daripada numpy ataupun looping jika ukuran datanya semakin besar dan padat"
      ],
      "metadata": {
        "id": "rsq1oerjzXXu"
      }
    },
    {
      "cell_type": "code",
      "source": [
        ""
      ],
      "metadata": {
        "id": "0-LiD7wA1eIQ"
      },
      "execution_count": null,
      "outputs": []
    }
  ]
}